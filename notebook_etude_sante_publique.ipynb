{
 "cells": [
  {
   "cell_type": "markdown",
   "id": "e7316a32",
   "metadata": {},
   "source": [
    "<div style=\" background-color: RGB(0,114,200);\" >\n",
    "<h1 style=\"margin: auto; padding: 20px 0; color:#fff; text-align: center\">PROJET 4 DATA ANALYST</h1>\n",
    "<h2 style=\"margin: auto; padding: 20px 0; color:#fff; text-align: center\">Réalisez une étude de santé publique avec R ou Python\n",
    "</h2>\n",
    "</div>"
   ]
  },
  {
   "cell_type": "markdown",
   "id": "6e00fa8a",
   "metadata": {},
   "source": [
    "# OBJECTIF DE CE NOTEBOOK\n",
    "\n",
    "Bienvenue dans l'outil plébiscité par les analystes de données Jupyter.\n",
    "\n",
    "Il s'agit d'un outil permettant de mixer et d'alterner codes, textes et graphique.\n",
    "\n",
    "Cet outil est formidable pour plusieurs raisons:\n",
    "\n",
    "+ il permet de tester des lignes de codes au fur et à mesure de votre rédaction, de constater immédiatement le résultat d'un instruction, de la corriger si nécessaire.\n",
    "+ De rédiger du texte pour expliquer l'approche suivie ou les résultats d'une analyse et de le mettre en forme grâce à du code html ou plus simple avec **Markdown**\n",
    "+ d'agrémenter de graphiques\n",
    "\n",
    "Pour vous aider dans vos premiers pas à l'usage de Jupyter et de Python, nous avons rédigé ce notebook en vous indiquant les instructions à suivre.\n",
    "\n",
    "Il vous suffit pour cela de saisir le code Python répondant à l'instruction donnée.\n",
    "\n",
    "Vous verrez de temps à autre le code Python répondant à une instruction donnée mais cela est fait pour vous aider à comprendre la nature du travail qui vous est demandée.\n",
    "\n",
    "Et garder à l'esprit, qu'il n'y a pas de solution unique pour résoudre un problème et qu'il y a autant de résolutions de problèmes que de développeurs ;)...\n",
    "\n"
   ]
  },
  {
   "cell_type": "markdown",
   "id": "c33bcf57",
   "metadata": {},
   "source": [
    "Note jeremy \n",
    "Est ce qu'il faut faire le calcul de la sous nutrition sur les pays qu'on a ? \n",
    "Est ce qu'il faut faire des graphiques ?\n",
    "Rajouter le soja\n",
    "La liste des céréales est difficile a trouver ..."
   ]
  },
  {
   "cell_type": "markdown",
   "id": "9dad8326",
   "metadata": {},
   "source": [
    "<div style=\"background-color: RGB(0,150,250);\" >\n",
    "<h2 style=\"margin: auto; padding: 20px; color:#fff; \">Etape 1 - Importation des librairies et chargement des fichiers</h2>\n",
    "</div>"
   ]
  },
  {
   "cell_type": "markdown",
   "id": "4ee69457",
   "metadata": {},
   "source": [
    "<div style=\"border: 1px solid RGB(0,150,250);\" >\n",
    "<h3 style=\"margin: auto; padding: 20px; color: RGB(0,150,250); \">1.1 - Importation des librairies</h3>\n",
    "</div>"
   ]
  },
  {
   "cell_type": "code",
   "execution_count": 659,
   "id": "ffe62b56",
   "metadata": {},
   "outputs": [],
   "source": [
    "#Importation de la librairie Pandas\n",
    "import pandas as pd"
   ]
  },
  {
   "cell_type": "code",
   "execution_count": 660,
   "id": "ff49c56a",
   "metadata": {},
   "outputs": [],
   "source": [
    "import numpy as np"
   ]
  },
  {
   "cell_type": "code",
   "execution_count": 661,
   "id": "fdfdc3e1",
   "metadata": {},
   "outputs": [],
   "source": [
    "import matplotlib.pyplot as plt"
   ]
  },
  {
   "cell_type": "code",
   "execution_count": 662,
   "id": "35bda101",
   "metadata": {},
   "outputs": [],
   "source": [
    "import seaborn as sns"
   ]
  },
  {
   "cell_type": "code",
   "execution_count": 872,
   "id": "8e079b42",
   "metadata": {},
   "outputs": [],
   "source": [
    "import openpyxl "
   ]
  },
  {
   "cell_type": "markdown",
   "id": "8bd8e7ed",
   "metadata": {},
   "source": [
    "<div style=\"border: 1px solid RGB(0,150,250);\" >\n",
    "<h3 style=\"margin: auto; padding: 20px; color: RGB(0,150,250); \">1.2 - Chargement des fichiers Excel</h3>\n",
    "</div>"
   ]
  },
  {
   "cell_type": "code",
   "execution_count": 663,
   "id": "b304f108",
   "metadata": {},
   "outputs": [],
   "source": [
    "#Importation du fichier population.csv\n",
    "population_csv = pd.read_csv('/Users/helmisaddem/Downloads/DAN-P4-FAO/population.csv')\n"
   ]
  },
  {
   "cell_type": "code",
   "execution_count": 664,
   "id": "261869bc",
   "metadata": {},
   "outputs": [],
   "source": [
    "#Importation du fichier dispo_alimentaire.csv\n",
    "dispo_alimentaire_csv = pd.read_csv('/Users/helmisaddem/Downloads/DAN-P4-FAO/dispo_alimentaire.csv')"
   ]
  },
  {
   "cell_type": "code",
   "execution_count": 665,
   "id": "20edda9f",
   "metadata": {},
   "outputs": [],
   "source": [
    "#Importation du fichier aide_alimentaire.csv\n",
    "aide_alimentaire_csv = pd.read_csv('/Users/helmisaddem/Downloads/DAN-P4-FAO/aide_alimentaire.csv')\n"
   ]
  },
  {
   "cell_type": "code",
   "execution_count": 666,
   "id": "cfe7e8bf",
   "metadata": {},
   "outputs": [],
   "source": [
    "#Importation du fichier sous_nutrition.csv\n",
    "sous_nutrition_csv = pd.read_csv('/Users/helmisaddem/Downloads/DAN-P4-FAO/ sous_nutrition.csv')"
   ]
  },
  {
   "cell_type": "markdown",
   "id": "1249847a",
   "metadata": {},
   "source": [
    "<div style=\"background-color: RGB(0,150,250);\" >\n",
    "<h2 style=\"margin: auto; padding: 20px; color:#fff; \">Etape 2 - Analyse exploratoire des fichiers</h2>\n",
    "</div>"
   ]
  },
  {
   "cell_type": "markdown",
   "id": "235e6e91",
   "metadata": {},
   "source": [
    "<div style=\"border: 1px solid RGB(0,150,250);\" >\n",
    "<h3 style=\"margin: auto; padding: 20px; color: RGB(0,150,250); \">2.1 - Analyse exploratoire du fichier population</h3>\n",
    "</div>"
   ]
  },
  {
   "cell_type": "code",
   "execution_count": 667,
   "id": "e6b639d2",
   "metadata": {},
   "outputs": [
    {
     "name": "stdout",
     "output_type": "stream",
     "text": [
      "Le tableau comporte 1416 observation(s) ou article(s)\n",
      "Le tableau comporte 3 colonne(s)\n"
     ]
    }
   ],
   "source": [
    "#Afficher les dimensions du dataset\n",
    "print(\"Le tableau comporte {} observation(s) ou article(s)\".format(population_csv.shape[0]))\n",
    "print(\"Le tableau comporte {} colonne(s)\".format(population_csv.shape[1]))"
   ]
  },
  {
   "cell_type": "code",
   "execution_count": null,
   "id": "3e50d9e6",
   "metadata": {},
   "outputs": [],
   "source": [
    "#Affichage les 5 premières lignes de la table\n",
    "population_csv.head()"
   ]
  },
  {
   "cell_type": "code",
   "execution_count": null,
   "id": "f39409fa",
   "metadata": {},
   "outputs": [],
   "source": [
    "dispo_alimentaire_csv.head()"
   ]
  },
  {
   "cell_type": "code",
   "execution_count": null,
   "id": "6de27ab2",
   "metadata": {},
   "outputs": [],
   "source": [
    "aide_alimentaire_csv.head()"
   ]
  },
  {
   "cell_type": "code",
   "execution_count": null,
   "id": "05e83c10",
   "metadata": {},
   "outputs": [],
   "source": [
    "sous_nutrition_csv.head()"
   ]
  },
  {
   "cell_type": "code",
   "execution_count": 673,
   "id": "ab1a4af4",
   "metadata": {},
   "outputs": [],
   "source": [
    "#Nous allons harmoniser les unités. Pour cela, nous avons décidé de multiplier la population par 1000\n",
    "#Multiplication de la colonne valeur par 1000\n",
    "population_csv['Valeur'] = population_csv['Valeur']*1000"
   ]
  },
  {
   "cell_type": "code",
   "execution_count": 674,
   "id": "38836b61",
   "metadata": {},
   "outputs": [],
   "source": [
    "#changement du nom de la colonne Valeur par Population\n",
    "population_csv.rename(columns = {'Valeur':'Population'}, inplace = True)"
   ]
  },
  {
   "cell_type": "code",
   "execution_count": null,
   "id": "ff707561",
   "metadata": {},
   "outputs": [],
   "source": [
    "#Affichage les 5 premières lignes de la table pour voir les modifications\n",
    "population_csv.head()"
   ]
  },
  {
   "cell_type": "markdown",
   "id": "4224b896",
   "metadata": {},
   "source": [
    "<div style=\"border: 1px solid RGB(0,150,250);\" >\n",
    "<h3 style=\"margin: auto; padding: 20px; color: RGB(0,150,250); \">2.2 - Analyse exploratoire du fichier disponibilité alimentaire</h3>\n",
    "</div>"
   ]
  },
  {
   "cell_type": "code",
   "execution_count": 676,
   "id": "38f5b838",
   "metadata": {},
   "outputs": [
    {
     "name": "stdout",
     "output_type": "stream",
     "text": [
      "Le tableau comporte 15605 observation(s) ou article(s)\n",
      "Le tableau comporte 18 colonne(s)\n"
     ]
    }
   ],
   "source": [
    "#Afficher les dimensions du dataset\n",
    "print(\"Le tableau comporte {} observation(s) ou article(s)\".format(dispo_alimentaire_csv.shape[0]))\n",
    "print(\"Le tableau comporte {} colonne(s)\".format(dispo_alimentaire_csv.shape[1]))"
   ]
  },
  {
   "cell_type": "code",
   "execution_count": 677,
   "id": "99735a22",
   "metadata": {},
   "outputs": [
    {
     "name": "stdout",
     "output_type": "stream",
     "text": [
      "Le tableau comporte 18 colonne(s)\n"
     ]
    }
   ],
   "source": [
    "#Consulter le nombre de colonnes\n",
    "print(\"Le tableau comporte {} colonne(s)\".format(dispo_alimentaire_csv.shape[1]))"
   ]
  },
  {
   "cell_type": "code",
   "execution_count": null,
   "id": "0058032d",
   "metadata": {},
   "outputs": [],
   "source": [
    "#Affichage les 5 premières lignes de la table\n",
    "dispo_alimentaire_csv.head()"
   ]
  },
  {
   "cell_type": "code",
   "execution_count": 679,
   "id": "f3832569",
   "metadata": {},
   "outputs": [],
   "source": [
    "#remplacement des NaN dans le dataset par des 0\n",
    "dispo_alimentaire_csv = dispo_alimentaire_csv.replace(np.nan,0)\n"
   ]
  },
  {
   "cell_type": "code",
   "execution_count": 680,
   "id": "db4432e3",
   "metadata": {},
   "outputs": [],
   "source": [
    "#multiplication de toutes les lignes contenant des milliers de tonnes en Kg\n",
    "dispo_alimentaire_csv['Aliments pour animaux'] = dispo_alimentaire_csv['Aliments pour animaux'] * 1000000\n",
    "dispo_alimentaire_csv['Autres Utilisations'] = dispo_alimentaire_csv['Autres Utilisations'] * 1000000\n",
    "dispo_alimentaire_csv['Disponibilité intérieure'] = dispo_alimentaire_csv['Disponibilité intérieure'] * 1000000\n",
    "dispo_alimentaire_csv['Exportations - Quantité'] = dispo_alimentaire_csv['Exportations - Quantité'] * 1000000\n",
    "dispo_alimentaire_csv['Importations - Quantité'] = dispo_alimentaire_csv['Importations - Quantité'] * 1000000\n",
    "dispo_alimentaire_csv['Nourriture'] = dispo_alimentaire_csv['Nourriture'] * 1000000\n",
    "dispo_alimentaire_csv['Pertes'] = dispo_alimentaire_csv['Pertes'] * 1000000\n",
    "dispo_alimentaire_csv['Production'] = dispo_alimentaire_csv['Production'] * 1000000\n",
    "dispo_alimentaire_csv['Semences'] = dispo_alimentaire_csv['Semences'] * 1000000\n",
    "dispo_alimentaire_csv['Traitement'] = dispo_alimentaire_csv['Traitement'] * 1000000\n",
    "dispo_alimentaire_csv['Variation de stock'] = dispo_alimentaire_csv['Variation de stock'] * 1000000"
   ]
  },
  {
   "cell_type": "code",
   "execution_count": 681,
   "id": "7f1689bf",
   "metadata": {},
   "outputs": [],
   "source": [
    "#Affichage les 5 premières lignes de la table\n",
    "dispo_alimentaire_csv.head()"
   ]
  },
  {
   "cell_type": "markdown",
   "id": "a09233e4",
   "metadata": {},
   "source": [
    "<div style=\"border: 1px solid RGB(0,150,250);\" >\n",
    "<h3 style=\"margin: auto; padding: 20px; color: RGB(0,150,250); \">2.3 - Analyse exploratoire du fichier aide alimentaire</h3>\n",
    "</div>"
   ]
  },
  {
   "cell_type": "code",
   "execution_count": 682,
   "id": "702f6322",
   "metadata": {},
   "outputs": [
    {
     "name": "stdout",
     "output_type": "stream",
     "text": [
      "Le tableau comporte 1475 observation(s) ou article(s)\n",
      "Le tableau comporte 4 colonne(s)\n"
     ]
    }
   ],
   "source": [
    "#Afficher les dimensions du dataset\n",
    "print(\"Le tableau comporte {} observation(s) ou article(s)\".format(aide_alimentaire_csv.shape[0]))\n",
    "print(\"Le tableau comporte {} colonne(s)\".format(aide_alimentaire_csv.shape[1]))"
   ]
  },
  {
   "cell_type": "code",
   "execution_count": 683,
   "id": "8fead3f9",
   "metadata": {},
   "outputs": [
    {
     "name": "stdout",
     "output_type": "stream",
     "text": [
      "Le tableau comporte 4 colonne(s)\n"
     ]
    }
   ],
   "source": [
    "#Consulter le nombre de colonnes\n",
    "print(\"Le tableau comporte {} colonne(s)\".format(aide_alimentaire_csv.shape[1]))"
   ]
  },
  {
   "cell_type": "code",
   "execution_count": null,
   "id": "443ec245",
   "metadata": {},
   "outputs": [],
   "source": [
    "#Affichage les 5 premières lignes de la table\n",
    "aide_alimentaire_csv.head()"
   ]
  },
  {
   "cell_type": "code",
   "execution_count": 685,
   "id": "af47212b",
   "metadata": {},
   "outputs": [],
   "source": [
    "#changement du nom de la colonne Pays bénéficiaire par Zone\n",
    "aide_alimentaire_csv.rename(columns = {'Pays bénéficiaire':'Zone'}, inplace = True)\n"
   ]
  },
  {
   "cell_type": "code",
   "execution_count": 686,
   "id": "c32cd1d8",
   "metadata": {},
   "outputs": [],
   "source": [
    "#Multiplication de la colonne Aide_alimentaire qui contient des tonnes par 1000 pour avoir des kg\n",
    "aide_alimentaire_csv['Valeur'] = aide_alimentaire_csv['Valeur']*1000"
   ]
  },
  {
   "cell_type": "code",
   "execution_count": null,
   "id": "d951d8df",
   "metadata": {},
   "outputs": [],
   "source": [
    "#Affichage les 5 premières lignes de la table\n",
    "aide_alimentaire_csv.head()"
   ]
  },
  {
   "cell_type": "markdown",
   "id": "eeae9043",
   "metadata": {},
   "source": [
    "<div style=\"border: 1px solid RGB(0,150,250);\" >\n",
    "<h3 style=\"margin: auto; padding: 20px; color: RGB(0,150,250); \">2.3 - Analyse exploratoire du fichier sous nutrition</h3>\n",
    "</div>"
   ]
  },
  {
   "cell_type": "code",
   "execution_count": 688,
   "id": "882add3d",
   "metadata": {},
   "outputs": [
    {
     "name": "stdout",
     "output_type": "stream",
     "text": [
      "Le tableau comporte 1218 observation(s) ou article(s)\n",
      "Le tableau comporte 3 colonne(s)\n"
     ]
    }
   ],
   "source": [
    "#Afficher les dimensions du dataset\n",
    "print(\"Le tableau comporte {} observation(s) ou article(s)\".format(sous_nutrition_csv.shape[0]))\n",
    "print(\"Le tableau comporte {} colonne(s)\".format(sous_nutrition_csv.shape[1]))\n"
   ]
  },
  {
   "cell_type": "code",
   "execution_count": 689,
   "id": "70c1a7a9",
   "metadata": {},
   "outputs": [
    {
     "name": "stdout",
     "output_type": "stream",
     "text": [
      "Le tableau comporte 3 colonne(s)\n"
     ]
    }
   ],
   "source": [
    "#Consulter le nombre de colonnes\n",
    "print(\"Le tableau comporte {} colonne(s)\".format(sous_nutrition_csv.shape[1]))"
   ]
  },
  {
   "cell_type": "code",
   "execution_count": null,
   "id": "5c6469e5",
   "metadata": {},
   "outputs": [],
   "source": [
    "#Afficher les 5 premières lignes de la table\n",
    "sous_nutrition_csv.head()"
   ]
  },
  {
   "cell_type": "code",
   "execution_count": 691,
   "id": "11b6a6c8",
   "metadata": {},
   "outputs": [],
   "source": [
    "#Conversion de la colonne sous nutrition en numérique: problèmes des valeurs <0,1 ==> remplacée par 0\n",
    "sous_nutrition_csv['Valeur'] = sous_nutrition_csv['Valeur'].replace('<0.1','0')"
   ]
  },
  {
   "cell_type": "code",
   "execution_count": 692,
   "id": "d31d2724",
   "metadata": {},
   "outputs": [],
   "source": [
    "#Conversion de la colonne (avec l'argument errors=coerce qui permet de convertir automatiquement les lignes qui ne sont pas des nombres en NaN)\n",
    "#Puis remplacement des NaN en 0\n",
    "sous_nutrition_csv['Valeur'] = pd.to_numeric(sous_nutrition_csv['Valeur'], errors='coerce')"
   ]
  },
  {
   "cell_type": "code",
   "execution_count": 693,
   "id": "f7a63e92",
   "metadata": {},
   "outputs": [],
   "source": [
    "sous_nutrition_csv = sous_nutrition_csv.replace(np.nan,0)"
   ]
  },
  {
   "cell_type": "code",
   "execution_count": 694,
   "id": "34c98232",
   "metadata": {},
   "outputs": [],
   "source": [
    "#changement du nom de la colonne Valeur par sous_nutrition\n",
    "sous_nutrition_csv.rename(columns = {'Valeur':'sous_nutrition'}, inplace = True)"
   ]
  },
  {
   "cell_type": "code",
   "execution_count": 695,
   "id": "002110fa",
   "metadata": {},
   "outputs": [],
   "source": [
    "#Multiplication de la colonne sous_nutrition par 1000000\n",
    "sous_nutrition_csv['sous_nutrition'] = sous_nutrition_csv['sous_nutrition']*1000000"
   ]
  },
  {
   "cell_type": "code",
   "execution_count": null,
   "id": "58259b55",
   "metadata": {},
   "outputs": [],
   "source": [
    "#Afficher les 5 premières lignes de la table\n",
    "sous_nutrition_csv.head()"
   ]
  },
  {
   "cell_type": "markdown",
   "id": "df6dcabd",
   "metadata": {},
   "source": [
    "<div style=\"border: 1px solid RGB(0,150,250);\" >\n",
    "<h3 style=\"margin: auto; padding: 20px; color: RGB(0,150,250); \">3.1 - Proportion de personnes en sous nutrition</h3>\n",
    "</div>"
   ]
  },
  {
   "cell_type": "code",
   "execution_count": 697,
   "id": "a63e1567",
   "metadata": {},
   "outputs": [],
   "source": [
    "# Il faut tout d'abord faire une jointure entre la table population et la table sous nutrition, en ciblant l'année 2017\n",
    "sous_nutrition_2017 = sous_nutrition_csv.loc[sous_nutrition_csv['Année'] == '2016-2018', ['Zone', 'Année','sous_nutrition']]"
   ]
  },
  {
   "cell_type": "code",
   "execution_count": 698,
   "id": "51acf002",
   "metadata": {},
   "outputs": [],
   "source": [
    "population_2017 = population_csv.loc[population_csv['Année'] == 2017, ['Zone', 'Année','Population']]"
   ]
  },
  {
   "cell_type": "code",
   "execution_count": 699,
   "id": "de1c6f13",
   "metadata": {},
   "outputs": [],
   "source": [
    "sous_alimentation = pd.merge(sous_nutrition_2017, population_2017, on = 'Zone', how = 'inner')"
   ]
  },
  {
   "cell_type": "code",
   "execution_count": 700,
   "id": "5a8f59c0",
   "metadata": {},
   "outputs": [],
   "source": [
    "sous_alimentation = sous_alimentation.rename(columns={'Année_y':'Annee'})\n",
    "sous_alimentation = sous_alimentation.drop(columns=['Année_x'])"
   ]
  },
  {
   "cell_type": "code",
   "execution_count": 701,
   "id": "731eea39",
   "metadata": {},
   "outputs": [
    {
     "data": {
      "text/html": [
       "<div>\n",
       "<style scoped>\n",
       "    .dataframe tbody tr th:only-of-type {\n",
       "        vertical-align: middle;\n",
       "    }\n",
       "\n",
       "    .dataframe tbody tr th {\n",
       "        vertical-align: top;\n",
       "    }\n",
       "\n",
       "    .dataframe thead th {\n",
       "        text-align: right;\n",
       "    }\n",
       "</style>\n",
       "<table border=\"1\" class=\"dataframe\">\n",
       "  <thead>\n",
       "    <tr style=\"text-align: right;\">\n",
       "      <th></th>\n",
       "      <th>Zone</th>\n",
       "      <th>sous_nutrition</th>\n",
       "      <th>Annee</th>\n",
       "      <th>Population</th>\n",
       "    </tr>\n",
       "  </thead>\n",
       "  <tbody>\n",
       "    <tr>\n",
       "      <th>0</th>\n",
       "      <td>Afghanistan</td>\n",
       "      <td>10500000.0</td>\n",
       "      <td>2017</td>\n",
       "      <td>36296113.0</td>\n",
       "    </tr>\n",
       "    <tr>\n",
       "      <th>1</th>\n",
       "      <td>Afrique du Sud</td>\n",
       "      <td>3100000.0</td>\n",
       "      <td>2017</td>\n",
       "      <td>57009756.0</td>\n",
       "    </tr>\n",
       "    <tr>\n",
       "      <th>2</th>\n",
       "      <td>Albanie</td>\n",
       "      <td>100000.0</td>\n",
       "      <td>2017</td>\n",
       "      <td>2884169.0</td>\n",
       "    </tr>\n",
       "    <tr>\n",
       "      <th>3</th>\n",
       "      <td>Algérie</td>\n",
       "      <td>1300000.0</td>\n",
       "      <td>2017</td>\n",
       "      <td>41389189.0</td>\n",
       "    </tr>\n",
       "    <tr>\n",
       "      <th>4</th>\n",
       "      <td>Allemagne</td>\n",
       "      <td>0.0</td>\n",
       "      <td>2017</td>\n",
       "      <td>82658409.0</td>\n",
       "    </tr>\n",
       "  </tbody>\n",
       "</table>\n",
       "</div>"
      ],
      "text/plain": [
       "             Zone  sous_nutrition  Annee  Population\n",
       "0     Afghanistan      10500000.0   2017  36296113.0\n",
       "1  Afrique du Sud       3100000.0   2017  57009756.0\n",
       "2         Albanie        100000.0   2017   2884169.0\n",
       "3         Algérie       1300000.0   2017  41389189.0\n",
       "4       Allemagne             0.0   2017  82658409.0"
      ]
     },
     "execution_count": 701,
     "metadata": {},
     "output_type": "execute_result"
    }
   ],
   "source": [
    "#Affichage du dataset\n",
    "sous_alimentation.head()"
   ]
  },
  {
   "cell_type": "code",
   "execution_count": 702,
   "id": "28e2741f",
   "metadata": {},
   "outputs": [],
   "source": [
    "#Calcul et affichage du nombre de personnes en état de sous nutrition: on ne dispose pas de données pour tous les pays, on ne fera de calcul que sur les pays dont on a les chiffres\n",
    "sous_alimentation['pourcentage_sous_nutrition'] = round(((sous_alimentation['sous_nutrition'].div (sous_alimentation['Population']))*100),2)\n",
    "pays_documentes = sous_alimentation.loc[sous_alimentation['pourcentage_sous_nutrition'] != 0]\n",
    "pourcentage_sous_nutrition_monde = round(((pays_documentes['sous_nutrition'].sum() / pays_documentes['Population'].sum())*100),2)"
   ]
  },
  {
   "cell_type": "code",
   "execution_count": 703,
   "id": "bcb90171",
   "metadata": {},
   "outputs": [
    {
     "name": "stdout",
     "output_type": "stream",
     "text": [
      "nombre de personnes en état de sous nutrition dans les pays dont on dispose des chiffres (84) est 535700000.0\n"
     ]
    }
   ],
   "source": [
    "print('nombre de personnes en état de sous nutrition dans les pays dont on dispose des chiffres (84) est', pays_documentes['sous_nutrition'].sum())"
   ]
  },
  {
   "cell_type": "code",
   "execution_count": 704,
   "id": "d190ba05",
   "metadata": {},
   "outputs": [
    {
     "name": "stdout",
     "output_type": "stream",
     "text": [
      "le pourcentage de personnes dénutris en 2017 selon les données dont dispose est 12.85 %\n"
     ]
    }
   ],
   "source": [
    "print ('le pourcentage de personnes dénutris en 2017 selon les données dont dispose est', pourcentage_sous_nutrition_monde,'%' )"
   ]
  },
  {
   "cell_type": "markdown",
   "id": "b4134a24",
   "metadata": {},
   "source": [
    "<div style=\"border: 1px solid RGB(0,150,250);\" >\n",
    "<h3 style=\"margin: auto; padding: 20px; color: RGB(0,150,250); \">3.2 - Nombre théorique de personne qui pourrait être nourries</h3>\n",
    "</div>"
   ]
  },
  {
   "cell_type": "code",
   "execution_count": 705,
   "id": "2b63df85",
   "metadata": {},
   "outputs": [],
   "source": [
    "#Combien mange en moyenne un être humain ? Source =>  2200 Kcal/jour "
   ]
  },
  {
   "cell_type": "code",
   "execution_count": 706,
   "id": "5e3f262d",
   "metadata": {},
   "outputs": [],
   "source": [
    "#On commence par faire une jointure entre le data frame population et Dispo_alimentaire afin d'ajouter dans ce dernier la population : problème noms de 2 pays : royaume  uni et tchequie\n",
    "population_2017['Zone'] = population_2017['Zone'].replace([\"Royaume-Uni de Grande-Bretagne et d'Irlande du Nord\", \"Tchéquie\"], [\"Royaume-Uni\", \"Tchéquie (la)\"])\n",
    "df_dispo = pd.merge(dispo_alimentaire_csv, population_2017, on = 'Zone', how = 'inner')\n",
    "del df_dispo['Année']"
   ]
  },
  {
   "cell_type": "code",
   "execution_count": null,
   "id": "23d10d0f",
   "metadata": {},
   "outputs": [],
   "source": [
    "df_dispo.head()\n"
   ]
  },
  {
   "cell_type": "code",
   "execution_count": 708,
   "id": "a2deb7ca",
   "metadata": {},
   "outputs": [],
   "source": [
    "disponibilite = df_dispo.drop(columns=[\"Origine\",\n",
    "                                       \"Aliments pour animaux\", \n",
    "                                       \"Autres Utilisations\", \n",
    "                                       \"Disponibilité alimentaire en quantité (kg/personne/an)\", \n",
    "                                       \"Disponibilité de matière grasse en quantité (g/personne/jour)\", \n",
    "                                       \"Disponibilité de protéines en quantité (g/personne/jour)\", \n",
    "                                       \"Exportations - Quantité\", \"Importations - Quantité\",\n",
    "                                       \"Nourriture\", \"Pertes\", \"Production\", \"Semences\", \"Traitement\",\n",
    "                                       \"Variation de stock\"])"
   ]
  },
  {
   "cell_type": "code",
   "execution_count": null,
   "id": "1638d0a5",
   "metadata": {},
   "outputs": [],
   "source": [
    "#Affichage du nouveau dataframe\n",
    "disponibilite.head()"
   ]
  },
  {
   "cell_type": "code",
   "execution_count": 710,
   "id": "ce015add",
   "metadata": {},
   "outputs": [],
   "source": [
    "dispo_agg = disponibilite.groupby('Zone').agg({'Disponibilité alimentaire (Kcal/personne/jour)':'sum', 'Disponibilité intérieure':'sum'})"
   ]
  },
  {
   "cell_type": "code",
   "execution_count": null,
   "id": "eccbc17d",
   "metadata": {},
   "outputs": [],
   "source": [
    "dispo_agg.reset_index()"
   ]
  },
  {
   "cell_type": "code",
   "execution_count": 712,
   "id": "26a2ef7a",
   "metadata": {},
   "outputs": [],
   "source": [
    "dispo_agg_pop = pd.merge(dispo_agg, population_2017, on = 'Zone', how = 'inner')"
   ]
  },
  {
   "cell_type": "code",
   "execution_count": 713,
   "id": "33f9a9d7",
   "metadata": {},
   "outputs": [],
   "source": [
    "#Création de la colonne dispo_kcal avec calcul des kcal disponibles mondialement\n",
    "dispo_agg_pop['Kcal_dispo_pays'] = round((dispo_agg_pop['Disponibilité alimentaire (Kcal/personne/jour)'] * dispo_agg_pop['Population']), 2)"
   ]
  },
  {
   "cell_type": "code",
   "execution_count": null,
   "id": "84ba1f66",
   "metadata": {},
   "outputs": [],
   "source": [
    "dispo_agg_pop.head()"
   ]
  },
  {
   "cell_type": "code",
   "execution_count": 715,
   "id": "5305ba25",
   "metadata": {},
   "outputs": [],
   "source": [
    "Kcal_dispo_mondial = dispo_agg_pop['Kcal_dispo_pays'].sum()"
   ]
  },
  {
   "cell_type": "code",
   "execution_count": 716,
   "id": "d6e858fd",
   "metadata": {},
   "outputs": [
    {
     "name": "stdout",
     "output_type": "stream",
     "text": [
      "nombre de calories disponibles mondialement 21182162746926.0\n"
     ]
    }
   ],
   "source": [
    "print('nombre de calories disponibles mondialement',Kcal_dispo_mondial)"
   ]
  },
  {
   "cell_type": "code",
   "execution_count": 717,
   "id": "a6d4af90",
   "metadata": {},
   "outputs": [
    {
     "name": "stdout",
     "output_type": "stream",
     "text": [
      "9628255794.06 pourraient être nourris en 2017 soit 130.65 % de la population mondiale en 2017\n"
     ]
    }
   ],
   "source": [
    "#Calcul du nombre d'humains pouvant être nourris sur la base de 2200 Kcal/jour besoin jounalier moyen : 21182162746926.0/2200\n",
    "nbre_humains_nourris = round((Kcal_dispo_mondial / 2200), 2)\n",
    "print(nbre_humains_nourris,'pourraient être nourris en 2017 soit', round((nbre_humains_nourris / (dispo_agg_pop['Population'].sum()))*100, 2),'% de la population mondiale en 2017')"
   ]
  },
  {
   "cell_type": "markdown",
   "id": "e97c8886",
   "metadata": {},
   "source": [
    "<div style=\"border: 1px solid RGB(0,150,250);\" >\n",
    "<h3 style=\"margin: auto; padding: 20px; color: RGB(0,150,250); \">3.3 - Nombre théorique de personne qui pourrait être nourrie avec les produits végétaux</h3>\n",
    "</div>"
   ]
  },
  {
   "cell_type": "code",
   "execution_count": 718,
   "id": "c2e3c87c",
   "metadata": {},
   "outputs": [],
   "source": [
    "#Transfert des données avec les végétaux dans un nouveau dataframe\n",
    "df_vegetaux = df_dispo.loc[df_dispo['Origine'] == 'vegetale']\n"
   ]
  },
  {
   "cell_type": "code",
   "execution_count": 719,
   "id": "534f3ad7",
   "metadata": {},
   "outputs": [],
   "source": [
    "#Calcul du nombre de kcal disponible pour les végétaux\n",
    "disponibilite_vegetaux = df_vegetaux.drop(columns=[\"Origine\",\n",
    "                                       \"Aliments pour animaux\", \n",
    "                                       \"Autres Utilisations\", \n",
    "                                       \"Disponibilité alimentaire en quantité (kg/personne/an)\", \n",
    "                                       \"Disponibilité de matière grasse en quantité (g/personne/jour)\", \n",
    "                                       \"Disponibilité de protéines en quantité (g/personne/jour)\", \n",
    "                                       \"Exportations - Quantité\", \"Importations - Quantité\",\n",
    "                                       \"Nourriture\", \"Pertes\", \"Production\", \"Semences\", \"Traitement\",\n",
    "                                       \"Variation de stock\"])\n"
   ]
  },
  {
   "cell_type": "code",
   "execution_count": 720,
   "id": "8014f232",
   "metadata": {},
   "outputs": [],
   "source": [
    "dispo_vegetaux_agg = disponibilite_vegetaux.groupby('Zone').agg({'Disponibilité alimentaire (Kcal/personne/jour)':'sum', 'Disponibilité intérieure':'sum'})"
   ]
  },
  {
   "cell_type": "code",
   "execution_count": null,
   "id": "2a510317",
   "metadata": {},
   "outputs": [],
   "source": [
    "dispo_vegetaux_agg.reset_index()"
   ]
  },
  {
   "cell_type": "code",
   "execution_count": 722,
   "id": "24e037cf",
   "metadata": {},
   "outputs": [
    {
     "data": {
      "text/html": [
       "<div>\n",
       "<style scoped>\n",
       "    .dataframe tbody tr th:only-of-type {\n",
       "        vertical-align: middle;\n",
       "    }\n",
       "\n",
       "    .dataframe tbody tr th {\n",
       "        vertical-align: top;\n",
       "    }\n",
       "\n",
       "    .dataframe thead th {\n",
       "        text-align: right;\n",
       "    }\n",
       "</style>\n",
       "<table border=\"1\" class=\"dataframe\">\n",
       "  <thead>\n",
       "    <tr style=\"text-align: right;\">\n",
       "      <th></th>\n",
       "      <th>Zone</th>\n",
       "      <th>Disponibilité alimentaire (Kcal/personne/jour)</th>\n",
       "      <th>Disponibilité intérieure</th>\n",
       "      <th>Année</th>\n",
       "      <th>Population</th>\n",
       "    </tr>\n",
       "  </thead>\n",
       "  <tbody>\n",
       "    <tr>\n",
       "      <th>0</th>\n",
       "      <td>Afghanistan</td>\n",
       "      <td>1871.0</td>\n",
       "      <td>1.088400e+10</td>\n",
       "      <td>2017</td>\n",
       "      <td>36296113.0</td>\n",
       "    </tr>\n",
       "    <tr>\n",
       "      <th>1</th>\n",
       "      <td>Afrique du Sud</td>\n",
       "      <td>2533.0</td>\n",
       "      <td>5.343900e+10</td>\n",
       "      <td>2017</td>\n",
       "      <td>57009756.0</td>\n",
       "    </tr>\n",
       "    <tr>\n",
       "      <th>2</th>\n",
       "      <td>Albanie</td>\n",
       "      <td>2203.0</td>\n",
       "      <td>3.326000e+09</td>\n",
       "      <td>2017</td>\n",
       "      <td>2884169.0</td>\n",
       "    </tr>\n",
       "    <tr>\n",
       "      <th>3</th>\n",
       "      <td>Algérie</td>\n",
       "      <td>2915.0</td>\n",
       "      <td>3.551000e+10</td>\n",
       "      <td>2017</td>\n",
       "      <td>41389189.0</td>\n",
       "    </tr>\n",
       "    <tr>\n",
       "      <th>4</th>\n",
       "      <td>Allemagne</td>\n",
       "      <td>2461.0</td>\n",
       "      <td>1.268660e+11</td>\n",
       "      <td>2017</td>\n",
       "      <td>82658409.0</td>\n",
       "    </tr>\n",
       "  </tbody>\n",
       "</table>\n",
       "</div>"
      ],
      "text/plain": [
       "             Zone  Disponibilité alimentaire (Kcal/personne/jour)  \\\n",
       "0     Afghanistan                                          1871.0   \n",
       "1  Afrique du Sud                                          2533.0   \n",
       "2         Albanie                                          2203.0   \n",
       "3         Algérie                                          2915.0   \n",
       "4       Allemagne                                          2461.0   \n",
       "\n",
       "   Disponibilité intérieure  Année  Population  \n",
       "0              1.088400e+10   2017  36296113.0  \n",
       "1              5.343900e+10   2017  57009756.0  \n",
       "2              3.326000e+09   2017   2884169.0  \n",
       "3              3.551000e+10   2017  41389189.0  \n",
       "4              1.268660e+11   2017  82658409.0  "
      ]
     },
     "execution_count": 722,
     "metadata": {},
     "output_type": "execute_result"
    }
   ],
   "source": [
    "dispo_vegetaux_agg_pop = pd.merge(dispo_vegetaux_agg, population_2017, on = 'Zone', how = 'inner')\n",
    "dispo_vegetaux_agg_pop.head()"
   ]
  },
  {
   "cell_type": "code",
   "execution_count": null,
   "id": "8c82da41",
   "metadata": {},
   "outputs": [],
   "source": [
    "dispo_vegetaux_agg_pop['Kcal_dispo_vegetaux_pays'] = round((dispo_vegetaux_agg_pop['Disponibilité alimentaire (Kcal/personne/jour)'] * dispo_vegetaux_agg_pop['Population']), 2)\n",
    "dispo_vegetaux_agg_pop.head()"
   ]
  },
  {
   "cell_type": "code",
   "execution_count": 724,
   "id": "59455049",
   "metadata": {},
   "outputs": [
    {
     "name": "stdout",
     "output_type": "stream",
     "text": [
      "17449509418936.0\n"
     ]
    }
   ],
   "source": [
    "Kcal_vegetaux_dispo_mondial = dispo_vegetaux_agg_pop['Kcal_dispo_vegetaux_pays'].sum()\n",
    "print(Kcal_vegetaux_dispo_mondial)"
   ]
  },
  {
   "cell_type": "code",
   "execution_count": 725,
   "id": "cd22db4c",
   "metadata": {},
   "outputs": [
    {
     "name": "stdout",
     "output_type": "stream",
     "text": [
      "7931595190.43 pourraient être nourris uniquement par les produits d'origine végétale en 2017 soit 107.63 % de la population mondiale en 2017\n"
     ]
    }
   ],
   "source": [
    "#Calcul du nombre d'humains pouvant être nourris avec les végétaux\n",
    "nbre_humains_nourris_vegetaux = round((Kcal_vegetaux_dispo_mondial / 2200), 2)\n",
    "print(nbre_humains_nourris_vegetaux,\"pourraient être nourris uniquement par les produits d'origine végétale en 2017 soit\", \n",
    "      round((nbre_humains_nourris_vegetaux / (dispo_vegetaux_agg_pop['Population'].sum()))*100, 2),'% de la population mondiale en 2017')"
   ]
  },
  {
   "cell_type": "markdown",
   "id": "cd07afb1",
   "metadata": {},
   "source": [
    "<div style=\"border: 1px solid RGB(0,150,250);\" >\n",
    "<h3 style=\"margin: auto; padding: 20px; color: RGB(0,150,250); \">3.4 - Utilisation de la disponibilité intérieure</h3>\n",
    "</div>"
   ]
  },
  {
   "cell_type": "code",
   "execution_count": 726,
   "id": "71328746",
   "metadata": {},
   "outputs": [
    {
     "name": "stdout",
     "output_type": "stream",
     "text": [
      "La disponibilité intérieure mondiale totale pour 2017 9848994000000.0\n"
     ]
    }
   ],
   "source": [
    "#Calcul de la disponibilité totale\n",
    "dispo_totale_mondiale = round((dispo_agg_pop['Disponibilité intérieure'].sum()),2)\n",
    "print('La disponibilité intérieure mondiale totale pour 2017', dispo_totale_mondiale) "
   ]
  },
  {
   "cell_type": "code",
   "execution_count": 727,
   "id": "9651c466",
   "metadata": {},
   "outputs": [],
   "source": [
    "distribution_dispo_int = df_dispo.drop(columns=[\"Origine\",\n",
    "                                               \"Disponibilité alimentaire (Kcal/personne/jour)\",\n",
    "                                               \"Disponibilité alimentaire en quantité (kg/personne/an)\", \n",
    "                                               \"Disponibilité de matière grasse en quantité (g/personne/jour)\", \n",
    "                                               \"Disponibilité de protéines en quantité (g/personne/jour)\", \n",
    "                                               \"Production\",\n",
    "                                               \"Exportations - Quantité\", \"Importations - Quantité\",\n",
    "                                               \"Population\",\n",
    "                                               \"Variation de stock\"])"
   ]
  },
  {
   "cell_type": "code",
   "execution_count": null,
   "id": "85c3eed2",
   "metadata": {},
   "outputs": [],
   "source": [
    "distribution_dispo_int.head()"
   ]
  },
  {
   "cell_type": "code",
   "execution_count": 729,
   "id": "d5993184",
   "metadata": {},
   "outputs": [],
   "source": [
    "distribution_dispo_int_agg = distribution_dispo_int.groupby('Zone').agg({'Aliments pour animaux': 'sum', \n",
    "                                                                         'Autres Utilisations': 'sum', \n",
    "                                                                         'Nourriture':'sum', \n",
    "                                                                         'Pertes': 'sum', \n",
    "                                                                         'Semences': 'sum', \n",
    "                                                                         'Traitement': 'sum',\n",
    "                                                                         'Disponibilité intérieure': 'sum'})\n"
   ]
  },
  {
   "cell_type": "code",
   "execution_count": null,
   "id": "457b90dc",
   "metadata": {},
   "outputs": [],
   "source": [
    "distribution_dispo_int_agg.reset_index()"
   ]
  },
  {
   "cell_type": "code",
   "execution_count": 732,
   "id": "bb355026",
   "metadata": {},
   "outputs": [],
   "source": [
    "distribution_dispo_int_agg['prop_animaux'] = round(((distribution_dispo_int_agg['Aliments pour animaux']/distribution_dispo_int_agg['Disponibilité intérieure'])*100),2)\n",
    "distribution_dispo_int_agg['prop_utilisations'] = round(((distribution_dispo_int_agg['Autres Utilisations']/distribution_dispo_int_agg['Disponibilité intérieure'])*100),2)\n",
    "distribution_dispo_int_agg['prop_nourriture'] = round(((distribution_dispo_int_agg['Nourriture']/distribution_dispo_int_agg['Disponibilité intérieure'])*100),2)\n",
    "distribution_dispo_int_agg['prop_pertes'] = round(((distribution_dispo_int_agg['Pertes']/distribution_dispo_int_agg['Disponibilité intérieure'])*100),2)\n",
    "distribution_dispo_int_agg['prop_semences'] = round(((distribution_dispo_int_agg['Semences']/distribution_dispo_int_agg['Disponibilité intérieure'])*100),2)\n",
    "distribution_dispo_int_agg['prop_traitement'] = round(((distribution_dispo_int_agg['Traitement']/distribution_dispo_int_agg['Disponibilité intérieure'])*100),2)"
   ]
  },
  {
   "cell_type": "code",
   "execution_count": null,
   "id": "17bbff39",
   "metadata": {},
   "outputs": [],
   "source": [
    "distribution_dispo_int_agg.head()"
   ]
  },
  {
   "cell_type": "code",
   "execution_count": 856,
   "id": "3e4651d2",
   "metadata": {},
   "outputs": [],
   "source": [
    "distribution_dispo_int_agg = distribution_dispo_int_agg.reset_index()"
   ]
  },
  {
   "cell_type": "code",
   "execution_count": null,
   "id": "90e7a882",
   "metadata": {},
   "outputs": [],
   "source": [
    "distribution_dispo_int_agg.head()"
   ]
  },
  {
   "cell_type": "code",
   "execution_count": 735,
   "id": "4d09ba88",
   "metadata": {},
   "outputs": [
    {
     "name": "stdout",
     "output_type": "stream",
     "text": [
      "Aliments pour animaux 13.24 %\n",
      "Autres Utilisations 8.78 %\n",
      "Nourriture 49.51 %\n",
      "Pertes 4.61 %\n",
      "Semences 1.57 %\n",
      "Traitement 22.38 %\n"
     ]
    }
   ],
   "source": [
    "#création d'une boucle for pour afficher les différentes valeurs en fonction des colonnes aliments pour animaux, pertes, nourritures, \n",
    "for column in distribution_dispo_int_agg.columns[0:6]:\n",
    "    print (column, round(((distribution_dispo_int_agg[column].sum()/dispo_totale_mondiale)*100),2),'%')\n",
    "    \n"
   ]
  },
  {
   "cell_type": "code",
   "execution_count": 736,
   "id": "0eb19438",
   "metadata": {},
   "outputs": [],
   "source": [
    "value =[]\n",
    "for column in distribution_dispo_int_agg.columns[0:6]:\n",
    "    value.append(round(((distribution_dispo_int_agg[column].sum()/dispo_totale_mondiale)*100),2))\n",
    "    "
   ]
  },
  {
   "cell_type": "code",
   "execution_count": 737,
   "id": "10fa12cd",
   "metadata": {},
   "outputs": [],
   "source": [
    "data = pd.DataFrame({'Utilisation':['Aliments pour animaux', \n",
    "                                    'Autres Utilisations', 'Nourriture', \n",
    "                                    'Pertes', 'Semences', 'Traitement'],\n",
    "                    'Valeur':[1, 2, 3, 4, 5, 6]})"
   ]
  },
  {
   "cell_type": "code",
   "execution_count": 738,
   "id": "e521091d",
   "metadata": {},
   "outputs": [],
   "source": [
    "data['Valeur'] = value"
   ]
  },
  {
   "cell_type": "code",
   "execution_count": 826,
   "id": "451713c5",
   "metadata": {},
   "outputs": [
    {
     "data": {
      "text/html": [
       "<div>\n",
       "<style scoped>\n",
       "    .dataframe tbody tr th:only-of-type {\n",
       "        vertical-align: middle;\n",
       "    }\n",
       "\n",
       "    .dataframe tbody tr th {\n",
       "        vertical-align: top;\n",
       "    }\n",
       "\n",
       "    .dataframe thead th {\n",
       "        text-align: right;\n",
       "    }\n",
       "</style>\n",
       "<table border=\"1\" class=\"dataframe\">\n",
       "  <thead>\n",
       "    <tr style=\"text-align: right;\">\n",
       "      <th></th>\n",
       "      <th>Utilisation</th>\n",
       "      <th>Valeur</th>\n",
       "    </tr>\n",
       "  </thead>\n",
       "  <tbody>\n",
       "    <tr>\n",
       "      <th>0</th>\n",
       "      <td>Aliments pour animaux</td>\n",
       "      <td>13.24</td>\n",
       "    </tr>\n",
       "    <tr>\n",
       "      <th>1</th>\n",
       "      <td>Autres Utilisations</td>\n",
       "      <td>8.78</td>\n",
       "    </tr>\n",
       "    <tr>\n",
       "      <th>2</th>\n",
       "      <td>Nourriture</td>\n",
       "      <td>49.51</td>\n",
       "    </tr>\n",
       "    <tr>\n",
       "      <th>3</th>\n",
       "      <td>Pertes</td>\n",
       "      <td>4.61</td>\n",
       "    </tr>\n",
       "    <tr>\n",
       "      <th>4</th>\n",
       "      <td>Semences</td>\n",
       "      <td>1.57</td>\n",
       "    </tr>\n",
       "    <tr>\n",
       "      <th>5</th>\n",
       "      <td>Traitement</td>\n",
       "      <td>22.38</td>\n",
       "    </tr>\n",
       "  </tbody>\n",
       "</table>\n",
       "</div>"
      ],
      "text/plain": [
       "             Utilisation  Valeur\n",
       "0  Aliments pour animaux   13.24\n",
       "1    Autres Utilisations    8.78\n",
       "2             Nourriture   49.51\n",
       "3                 Pertes    4.61\n",
       "4               Semences    1.57\n",
       "5             Traitement   22.38"
      ]
     },
     "execution_count": 826,
     "metadata": {},
     "output_type": "execute_result"
    }
   ],
   "source": [
    "data.head(10)"
   ]
  },
  {
   "cell_type": "code",
   "execution_count": 832,
   "id": "85d7a774",
   "metadata": {},
   "outputs": [
    {
     "data": {
      "text/plain": [
       "Text(0.5, 1.0, 'Répartition de la disponibilité intérieure en 2017')"
      ]
     },
     "execution_count": 832,
     "metadata": {},
     "output_type": "execute_result"
    },
    {
     "data": {
      "image/png": "[encoded data removed]",
      "text/plain": [
       "<Figure size 640x480 with 1 Axes>"
      ]
     },
     "metadata": {},
     "output_type": "display_data"
    }
   ],
   "source": [
    "sns.set_style(\"darkgrid\")\n",
    "sns.set_palette(\"muted\")\n",
    "custom_palette = sns.color_palette(\"Set3\", 9)\n",
    "plt.pie(x = data['Valeur'], labels = data['Utilisation'], colors=custom_palette, autopct='%.1f%%', textprops={'fontsize': 8})\n",
    "plt.Figure(figsize=(4,4))\n",
    "plt.title(\"Répartition de la disponibilité intérieure en 2017\", loc = 'center')\n"
   ]
  },
  {
   "cell_type": "markdown",
   "id": "141d05df",
   "metadata": {},
   "source": [
    "<div style=\"border: 1px solid RGB(0,150,250);\" >\n",
    "<h3 style=\"margin: auto; padding: 20px; color: RGB(0,150,250); \">3.5 - Utilisation des céréales</h3>\n",
    "</div>"
   ]
  },
  {
   "cell_type": "code",
   "execution_count": 741,
   "id": "c27448ff",
   "metadata": {},
   "outputs": [],
   "source": [
    "#Création d'une liste avec toutes les variables\n",
    "cereales = [\"Blé\", \"Riz (Eq Blanchi)\", \"Orge\", \"Maïs\", \"Seigle\", \"Avoine\", \"Millet\", \"Sorgho\", \"Céréales, Autres\"]"
   ]
  },
  {
   "cell_type": "code",
   "execution_count": 742,
   "id": "5f19206a",
   "metadata": {},
   "outputs": [],
   "source": [
    "dispo_cereales = dispo_alimentaire_csv[dispo_alimentaire_csv['Produit'].isin(cereales)]"
   ]
  },
  {
   "cell_type": "code",
   "execution_count": 743,
   "id": "ed426103",
   "metadata": {},
   "outputs": [
    {
     "data": {
      "text/plain": [
       "2406999000000.0"
      ]
     },
     "execution_count": 743,
     "metadata": {},
     "output_type": "execute_result"
    }
   ],
   "source": [
    "dispo_cereales[\"Disponibilité intérieure\"].sum()"
   ]
  },
  {
   "cell_type": "code",
   "execution_count": 744,
   "id": "6658ffa3",
   "metadata": {},
   "outputs": [],
   "source": [
    "dispo_cereales = dispo_cereales.drop(columns=[\"Nourriture\",\n",
    "                             \"Pertes\", \n",
    "                             \"Production\",\n",
    "                             \"Semences\",\n",
    "                             \"Traitement\",\n",
    "                             \"Exportations - Quantité\", \"Importations - Quantité\",\n",
    "                             \"Variation de stock\"])"
   ]
  },
  {
   "cell_type": "code",
   "execution_count": 745,
   "id": "0ac3449a",
   "metadata": {},
   "outputs": [],
   "source": [
    "dispo_cereales_pays = pd.merge(dispo_cereales, population_2017, on = 'Zone', how = 'inner')"
   ]
  },
  {
   "cell_type": "code",
   "execution_count": 746,
   "id": "ff3b4f45",
   "metadata": {},
   "outputs": [],
   "source": [
    "dispo_cereales_pays['cereal_pays'] = dispo_cereales_pays['Disponibilité alimentaire en quantité (kg/personne/an)'] * dispo_cereales_pays['Population']"
   ]
  },
  {
   "cell_type": "code",
   "execution_count": null,
   "id": "c2d00054",
   "metadata": {},
   "outputs": [],
   "source": [
    "dispo_cereales_pays.head(40)"
   ]
  },
  {
   "cell_type": "code",
   "execution_count": 748,
   "id": "6f5e93c7",
   "metadata": {},
   "outputs": [
    {
     "name": "stdout",
     "output_type": "stream",
     "text": [
      "Part de l'alimentation animale du total des céréales documentées 36.29 %\n",
      "Part de l'alimentation humaine du total des céréales documentées 45.1 %\n"
     ]
    }
   ],
   "source": [
    "#Affichage de la proportion d'alimentation animale : \n",
    "prop_animaux_cereales = round(((dispo_cereales_pays['Aliments pour animaux'].sum()/dispo_cereales_pays['Disponibilité intérieure'].sum())*100),2)\n",
    "print(\"Part de l'alimentation animale du total des céréales documentées\", prop_animaux_cereales,'%')\n",
    "part_humaine_cereales = round(((dispo_cereales_pays['cereal_pays'].sum()/dispo_cereales_pays['Disponibilité intérieure'].sum())*100),2)\n",
    "print(\"Part de l'alimentation humaine du total des céréales documentées\", part_humaine_cereales,'%')\n",
    "\n"
   ]
  },
  {
   "cell_type": "code",
   "execution_count": 749,
   "id": "09497e54",
   "metadata": {},
   "outputs": [],
   "source": [
    "cereales_utilisations = dispo_cereales_pays.groupby('Produit').agg({'Aliments pour animaux': 'sum',\n",
    "                                                                    'Disponibilité alimentaire (Kcal/personne/jour)': 'sum',\n",
    "                                                                    'Disponibilité alimentaire en quantité (kg/personne/an)': 'sum',\n",
    "                                                                    'Disponibilité de matière grasse en quantité (g/personne/jour)':'sum',\n",
    "                                                                    'Disponibilité de protéines en quantité (g/personne/jour)':'sum',\n",
    "                                                                    'Disponibilité intérieure':'sum',\n",
    "                                                                    'cereal_pays':'sum'})"
   ]
  },
  {
   "cell_type": "code",
   "execution_count": 835,
   "id": "9924b438",
   "metadata": {},
   "outputs": [],
   "source": [
    "cereales_utilisations = cereales_utilisations.reset_index()"
   ]
  },
  {
   "cell_type": "code",
   "execution_count": null,
   "id": "8e065477",
   "metadata": {},
   "outputs": [],
   "source": [
    "cereales_utilisations.head(30)"
   ]
  },
  {
   "cell_type": "code",
   "execution_count": 752,
   "id": "65caa68d",
   "metadata": {},
   "outputs": [],
   "source": [
    "cereales_utilisations['prop_animaux %'] = round(((cereales_utilisations['Aliments pour animaux']/cereales_utilisations['Disponibilité intérieure'])*100),2)\n",
    "cereales_utilisations['prop_humaine %'] = round(((cereales_utilisations['cereal_pays']/cereales_utilisations['Disponibilité intérieure'])*100),2)"
   ]
  },
  {
   "cell_type": "code",
   "execution_count": 877,
   "id": "8b7e2f8d",
   "metadata": {},
   "outputs": [
    {
     "data": {
      "text/plain": [
       "Text(0.5, 1.0, 'Répartition de la disponibilité en céréales en 2017')"
      ]
     },
     "execution_count": 877,
     "metadata": {},
     "output_type": "execute_result"
    },
    {
     "data": {
      "image/png": "[encoded data removed]",
      "text/plain": [
       "<Figure size 640x480 with 1 Axes>"
      ]
     },
     "metadata": {},
     "output_type": "display_data"
    }
   ],
   "source": [
    "sns.barplot(data=cereales_utilisations, x=cereales_utilisations['Produit'], y=cereales_utilisations['prop_animaux %'], color='tomato', label='part animale')\n",
    "sns.barplot(data=cereales_utilisations, x=cereales_utilisations['Produit'], y=cereales_utilisations['prop_humaine %'], color='dodgerblue', label = 'part humaine')\n",
    "plt.ylabel(\"\")\n",
    "plt.xlabel(\"\")\n",
    "plt.xlabel('Produit', fontsize=10, color='black')\n",
    "plt.xticks(rotation = 85, fontsize=9)\n",
    "plt.legend(loc='best')\n",
    "plt.title(\"Répartition de la disponibilité en céréales en 2017\", loc='center')\n"
   ]
  },
  {
   "cell_type": "code",
   "execution_count": null,
   "id": "fb7654d3",
   "metadata": {},
   "outputs": [],
   "source": [
    "#Analyse supplémentaire : production céréalière mondiale:\n",
    "\n",
    "etude_cereales = dispo_alimentaire_csv[dispo_alimentaire_csv['Produit'].isin(cereales)]\n",
    "etude_cereales = etude_cereales.drop(columns=[\"Nourriture\",\"Aliments pour animaux\",\"Origine\", \"Autres Utilisations\",\n",
    "                                              \"Pertes\", \"Disponibilité alimentaire (Kcal/personne/jour)\",\n",
    "                                              \"Semences\",\"Disponibilité alimentaire en quantité (kg/personne/an)\",\n",
    "                                              \"Traitement\", \"Disponibilité de matière grasse en quantité (g/personne/jour)\",\n",
    "                                              \"Exportations - Quantité\", \"Importations - Quantité\",\n",
    "                                              \"Disponibilité de protéines en quantité (g/personne/jour)\",\n",
    "                                              \"Variation de stock\", \"Disponibilité intérieure\"])\n",
    "etude_cereales.head(50)\n",
    "\n",
    "                                                                    \n",
    "                                                                    "
   ]
  },
  {
   "cell_type": "code",
   "execution_count": 912,
   "id": "66e6ac2a",
   "metadata": {},
   "outputs": [],
   "source": [
    "product_cerealiere = dispo_alimentaire_csv[dispo_alimentaire_csv['Produit'].isin(cereales)].drop(columns=[\"Nourriture\",\"Aliments pour animaux\",\"Origine\", \"Autres Utilisations\",\n",
    "                                              \"Pertes\", \"Disponibilité alimentaire (Kcal/personne/jour)\",\n",
    "                                              \"Semences\",\"Disponibilité alimentaire en quantité (kg/personne/an)\",\n",
    "                                              \"Traitement\", \"Disponibilité de matière grasse en quantité (g/personne/jour)\",\n",
    "                                              \"Exportations - Quantité\", \"Importations - Quantité\",\n",
    "                                              \"Disponibilité de protéines en quantité (g/personne/jour)\",\n",
    "                                              \"Variation de stock\", \"Disponibilité intérieure\"])\n"
   ]
  },
  {
   "cell_type": "code",
   "execution_count": 918,
   "id": "5b6f20e4",
   "metadata": {},
   "outputs": [],
   "source": [
    "product_cerealiere = product_cerealiere.pivot_table(index='Zone', values='Production', aggfunc='sum').reset_index().sort_values('Production', ascending=False).reset_index()"
   ]
  },
  {
   "cell_type": "code",
   "execution_count": null,
   "id": "2c3a2686",
   "metadata": {},
   "outputs": [],
   "source": [
    "product_cerealiere.head(50)"
   ]
  },
  {
   "cell_type": "code",
   "execution_count": 920,
   "id": "52cb2f47",
   "metadata": {},
   "outputs": [
    {
     "name": "stdout",
     "output_type": "stream",
     "text": [
      "19.22\n"
     ]
    }
   ],
   "source": [
    "print(round(((product_cerealiere.iloc[0, 2]/(product_cerealiere['Production'].sum()))*100),2))"
   ]
  },
  {
   "cell_type": "code",
   "execution_count": 893,
   "id": "cfe747eb",
   "metadata": {},
   "outputs": [],
   "source": [
    "etude_cereales = etude_cereales.pivot_table(index='Zone', columns='Produit', values='Production', aggfunc='sum')\n"
   ]
  },
  {
   "cell_type": "code",
   "execution_count": null,
   "id": "6d6bb8b2",
   "metadata": {},
   "outputs": [],
   "source": [
    "etude_cereales = etude_cereales.reset_index()"
   ]
  },
  {
   "cell_type": "code",
   "execution_count": null,
   "id": "274ce57e",
   "metadata": {},
   "outputs": [],
   "source": [
    "etude_cereales.head()\n"
   ]
  },
  {
   "cell_type": "code",
   "execution_count": 902,
   "id": "0b6cf376",
   "metadata": {},
   "outputs": [],
   "source": [
    "product_ble = etude_cereales.loc[:, ['Zone', 'Blé']].sort_values('Blé', ascending=False).reset_index()"
   ]
  },
  {
   "cell_type": "code",
   "execution_count": null,
   "id": "ee7a8cec",
   "metadata": {},
   "outputs": [],
   "source": [
    "product_ble.head(10)"
   ]
  },
  {
   "cell_type": "code",
   "execution_count": 907,
   "id": "dd7a4c9b",
   "metadata": {},
   "outputs": [
    {
     "name": "stdout",
     "output_type": "stream",
     "text": [
      "17.21\n"
     ]
    }
   ],
   "source": [
    "print(round(((product_ble.iloc[0, 2]/(product_ble['Blé'].sum()))*100),2))"
   ]
  },
  {
   "cell_type": "code",
   "execution_count": 921,
   "id": "10fea112",
   "metadata": {},
   "outputs": [
    {
     "name": "stdout",
     "output_type": "stream",
     "text": [
      "La chine, continentale est le premier producteur céréalier : 19.22 % de la production céréalière dans le monde et le premier producteur du blé en 2017 : 17.21 % de la production mondiale du blé\n"
     ]
    }
   ],
   "source": [
    "print(\"La chine, continentale est le premier producteur céréalier :\",round(((product_cerealiere.iloc[0, 2]/(product_cerealiere['Production'].sum()))*100),2), \"% de la production céréalière dans le monde et le premier producteur du blé en 2017 :\",round(((product_ble.iloc[0, 2]/(product_ble['Blé'].sum()))*100),2),\"% de la production mondiale du blé\")"
   ]
  },
  {
   "cell_type": "code",
   "execution_count": 922,
   "id": "4bd47469",
   "metadata": {},
   "outputs": [],
   "source": [
    "top_10_product_cerealiere = product_cerealiere.head(10)"
   ]
  },
  {
   "cell_type": "code",
   "execution_count": 929,
   "id": "2943dab5",
   "metadata": {},
   "outputs": [
    {
     "name": "stderr",
     "output_type": "stream",
     "text": [
      "/var/folders/r_/fd0gwkxn6n995_hk_5lc9f540000gn/T/ipykernel_95323/1411112225.py:1: FutureWarning: \n",
      "\n",
      "Passing `palette` without assigning `hue` is deprecated and will be removed in v0.14.0. Assign the `x` variable to `hue` and set `legend=False` for the same effect.\n",
      "\n",
      "  sns.barplot(data=top_10_product_cerealiere, x = top_10_product_cerealiere['Zone'], y = top_10_product_cerealiere['Production'], palette=\"Greens_r\")\n"
     ]
    },
    {
     "data": {
      "text/plain": [
       "([0, 1, 2, 3, 4, 5, 6, 7, 8, 9],\n",
       " [Text(0, 0, 'Chine, continentale'),\n",
       "  Text(1, 0, \"États-Unis d'Amérique\"),\n",
       "  Text(2, 0, 'Inde'),\n",
       "  Text(3, 0, 'Brésil'),\n",
       "  Text(4, 0, 'Fédération de Russie'),\n",
       "  Text(5, 0, 'France'),\n",
       "  Text(6, 0, 'Canada'),\n",
       "  Text(7, 0, 'Indonésie'),\n",
       "  Text(8, 0, 'Ukraine'),\n",
       "  Text(9, 0, 'Argentine')])"
      ]
     },
     "execution_count": 929,
     "metadata": {},
     "output_type": "execute_result"
    },
    {
     "data": {
      "image/png": "[encoded data removed]",
      "text/plain": [
       "<Figure size 640x480 with 1 Axes>"
      ]
     },
     "metadata": {},
     "output_type": "display_data"
    }
   ],
   "source": [
    "sns.barplot(data=top_10_product_cerealiere, x = top_10_product_cerealiere['Zone'], y = top_10_product_cerealiere['Production'], palette=\"Greens_r\")\n",
    "plt.xticks(rotation=85, fontsize=9)\n"
   ]
  },
  {
   "cell_type": "code",
   "execution_count": null,
   "id": "d246f69b",
   "metadata": {},
   "outputs": [],
   "source": [
    "etude_cereales_exportation = dispo_alimentaire_csv[dispo_alimentaire_csv['Produit'].isin(cereales)]\n",
    "etude_cereales_exportation = etude_cereales_exportation.drop(columns=[\"Nourriture\",\"Aliments pour animaux\",\"Origine\", \"Autres Utilisations\",\n",
    "                                              \"Pertes\", \"Disponibilité alimentaire (Kcal/personne/jour)\",\n",
    "                                              \"Semences\",\"Disponibilité alimentaire en quantité (kg/personne/an)\",\n",
    "                                              \"Traitement\", \"Disponibilité de matière grasse en quantité (g/personne/jour)\",\n",
    "                                              \"Production\", \"Importations - Quantité\",\n",
    "                                              \"Disponibilité de protéines en quantité (g/personne/jour)\",\n",
    "                                              \"Variation de stock\", \"Disponibilité intérieure\"])\n",
    "etude_cereales_exportation.head(50)"
   ]
  },
  {
   "cell_type": "code",
   "execution_count": 934,
   "id": "23fa706e",
   "metadata": {},
   "outputs": [],
   "source": [
    "plus_grand_export = etude_cereales_exportation.pivot_table(index='Zone', values='Exportations - Quantité', aggfunc='sum').sort_values('Exportations - Quantité', ascending=False).reset_index()"
   ]
  },
  {
   "cell_type": "code",
   "execution_count": 936,
   "id": "fec39f55",
   "metadata": {},
   "outputs": [],
   "source": [
    "plus_grand_export = plus_grand_export.head(5)"
   ]
  },
  {
   "cell_type": "code",
   "execution_count": 956,
   "id": "fb3c5088",
   "metadata": {},
   "outputs": [
    {
     "name": "stderr",
     "output_type": "stream",
     "text": [
      "/var/folders/r_/fd0gwkxn6n995_hk_5lc9f540000gn/T/ipykernel_95323/1146881413.py:1: FutureWarning: \n",
      "\n",
      "Passing `palette` without assigning `hue` is deprecated and will be removed in v0.14.0. Assign the `x` variable to `hue` and set `legend=False` for the same effect.\n",
      "\n",
      "  sns.barplot(data=plus_grand_export, x='Zone', y='Exportations - Quantité', palette='Purples_r')\n"
     ]
    },
    {
     "data": {
      "text/plain": [
       "<Axes: xlabel='Zone', ylabel='Exportations - Quantité'>"
      ]
     },
     "execution_count": 956,
     "metadata": {},
     "output_type": "execute_result"
    },
    {
     "data": {
      "image/png": "[encoded data removed]",
      "text/plain": [
       "<Figure size 640x480 with 1 Axes>"
      ]
     },
     "metadata": {},
     "output_type": "display_data"
    }
   ],
   "source": [
    "sns.barplot(data=plus_grand_export, x='Zone', y='Exportations - Quantité', palette='Purples_r')\n"
   ]
  },
  {
   "cell_type": "code",
   "execution_count": 939,
   "id": "ba20420e",
   "metadata": {},
   "outputs": [],
   "source": [
    "plus_grand_export_ble = etude_cereales_exportation.loc[etude_cereales_exportation['Produit']=='Blé', :].sort_values('Exportations - Quantité', ascending=False).reset_index()"
   ]
  },
  {
   "cell_type": "code",
   "execution_count": null,
   "id": "bfd730fd",
   "metadata": {},
   "outputs": [],
   "source": [
    "plus_grand_export_ble = plus_grand_export_ble.head(10)\n",
    "plus_grand_export_ble.head(10)"
   ]
  },
  {
   "cell_type": "code",
   "execution_count": null,
   "id": "bf163d7a",
   "metadata": {},
   "outputs": [],
   "source": [
    "chine_info = dispo_alimentaire_csv[dispo_alimentaire_csv['Produit'].isin(cereales)]\n",
    "chine = chine_info.loc[chine_info['Zone'] == \"Chine, continentale\", ['Produit', 'Production', 'Nourriture', 'Exportations - Quantité', 'Importations - Quantité']].reset_index()\n",
    "chine.head(20)"
   ]
  },
  {
   "cell_type": "markdown",
   "id": "a603be79",
   "metadata": {},
   "source": [
    "<div style=\"border: 1px solid RGB(0,150,250);\" >\n",
    "<h3 style=\"margin: auto; padding: 20px; color: RGB(0,150,250); \">3.6 - Pays avec la proportion de personnes sous-alimentée la plus forte en 2017</h3>\n",
    "</div>"
   ]
  },
  {
   "cell_type": "code",
   "execution_count": null,
   "id": "25a185b6",
   "metadata": {},
   "outputs": [],
   "source": [
    "#affichage après trie des 10 pires pays\n",
    "pays_documentes= pays_documentes.sort_values('pourcentage_sous_nutrition', ascending=False)\n",
    "pays_denutris = pays_documentes.head(10)\n"
   ]
  },
  {
   "cell_type": "code",
   "execution_count": 967,
   "id": "9dcd84df",
   "metadata": {},
   "outputs": [],
   "source": [
    "pays_denutris = pays_denutris.sort_values('pourcentage_sous_nutrition', ascending=False).reset_index()"
   ]
  },
  {
   "cell_type": "code",
   "execution_count": null,
   "id": "9693d839",
   "metadata": {},
   "outputs": [],
   "source": [
    "sequential_colors = sns.color_palette(\"crest\", 10)\n",
    "pays_denutris.iloc[1,1] = \"RPD de Corée\""
   ]
  },
  {
   "cell_type": "code",
   "execution_count": 1060,
   "id": "22ceb457",
   "metadata": {},
   "outputs": [
    {
     "data": {
      "image/png": "[encoded data removed]",
      "text/plain": [
       "<Figure size 640x480 with 1 Axes>"
      ]
     },
     "metadata": {},
     "output_type": "display_data"
    }
   ],
   "source": [
    "graph = plt.bar(pays_denutris.Zone, pays_denutris.pourcentage_sous_nutrition, color=sequential_colors)\n",
    "plt.xticks(rotation = 85, fontsize=9)\n",
    "plt.title(\"10 pays avec pourcentages de sous nutrition les plus élevés en 2017\", loc = 'center', fontsize = 11)\n",
    "for rect in graph:\n",
    "    height = rect.get_height()\n",
    "    plt.text(rect.get_x() + rect.get_width() / 2.0, height, f'{height:.2f}%', ha='center', va='bottom', fontsize=8)"
   ]
  },
  {
   "cell_type": "markdown",
   "id": "4f610008",
   "metadata": {},
   "source": [
    "<div style=\"border: 1px solid RGB(0,150,250);\" >\n",
    "<h3 style=\"margin: auto; padding: 20px; color: RGB(0,150,250); \">3.7 - Pays qui ont le plus bénéficié d'aide alimentaire depuis 2013</h3>\n",
    "</div>"
   ]
  },
  {
   "cell_type": "code",
   "execution_count": null,
   "id": "ff1b24a3",
   "metadata": {},
   "outputs": [],
   "source": [
    "#calcul du total de l'aide alimentaire par pays (entre 2013 et 2016):\n",
    "aide_alimentaire_csv.head(50)"
   ]
  },
  {
   "cell_type": "code",
   "execution_count": 760,
   "id": "ee1ac6fb",
   "metadata": {},
   "outputs": [],
   "source": [
    "#affichage après tri des 10 pays qui ont bénéficié le plus de l'aide alimentaire\n",
    "top_10_aide = aide_alimentaire_csv.groupby('Zone').agg({'Valeur':'sum'}).sort_values(by='Valeur', ascending=False)\n"
   ]
  },
  {
   "cell_type": "code",
   "execution_count": 763,
   "id": "523df8da",
   "metadata": {},
   "outputs": [],
   "source": [
    "top_10 = top_10_aide.head(10)"
   ]
  },
  {
   "cell_type": "code",
   "execution_count": 765,
   "id": "b3e4f38b",
   "metadata": {},
   "outputs": [],
   "source": [
    "top_10 = top_10.reset_index()"
   ]
  },
  {
   "cell_type": "code",
   "execution_count": 1035,
   "id": "5b8f136f",
   "metadata": {},
   "outputs": [
    {
     "data": {
      "text/html": [
       "<div>\n",
       "<style scoped>\n",
       "    .dataframe tbody tr th:only-of-type {\n",
       "        vertical-align: middle;\n",
       "    }\n",
       "\n",
       "    .dataframe tbody tr th {\n",
       "        vertical-align: top;\n",
       "    }\n",
       "\n",
       "    .dataframe thead th {\n",
       "        text-align: right;\n",
       "    }\n",
       "</style>\n",
       "<table border=\"1\" class=\"dataframe\">\n",
       "  <thead>\n",
       "    <tr style=\"text-align: right;\">\n",
       "      <th></th>\n",
       "      <th>Zone</th>\n",
       "      <th>Valeur</th>\n",
       "    </tr>\n",
       "  </thead>\n",
       "  <tbody>\n",
       "    <tr>\n",
       "      <th>0</th>\n",
       "      <td>République arabe syrienne</td>\n",
       "      <td>1858943000</td>\n",
       "    </tr>\n",
       "    <tr>\n",
       "      <th>1</th>\n",
       "      <td>Éthiopie</td>\n",
       "      <td>1381294000</td>\n",
       "    </tr>\n",
       "    <tr>\n",
       "      <th>2</th>\n",
       "      <td>Yémen</td>\n",
       "      <td>1206484000</td>\n",
       "    </tr>\n",
       "    <tr>\n",
       "      <th>3</th>\n",
       "      <td>Soudan du Sud</td>\n",
       "      <td>695248000</td>\n",
       "    </tr>\n",
       "    <tr>\n",
       "      <th>4</th>\n",
       "      <td>Soudan</td>\n",
       "      <td>669784000</td>\n",
       "    </tr>\n",
       "    <tr>\n",
       "      <th>5</th>\n",
       "      <td>Kenya</td>\n",
       "      <td>552836000</td>\n",
       "    </tr>\n",
       "    <tr>\n",
       "      <th>6</th>\n",
       "      <td>Bangladesh</td>\n",
       "      <td>348188000</td>\n",
       "    </tr>\n",
       "    <tr>\n",
       "      <th>7</th>\n",
       "      <td>Somalie</td>\n",
       "      <td>292678000</td>\n",
       "    </tr>\n",
       "    <tr>\n",
       "      <th>8</th>\n",
       "      <td>République démocratique du Congo</td>\n",
       "      <td>288502000</td>\n",
       "    </tr>\n",
       "    <tr>\n",
       "      <th>9</th>\n",
       "      <td>Niger</td>\n",
       "      <td>276344000</td>\n",
       "    </tr>\n",
       "  </tbody>\n",
       "</table>\n",
       "</div>"
      ],
      "text/plain": [
       "                               Zone      Valeur\n",
       "0         République arabe syrienne  1858943000\n",
       "1                          Éthiopie  1381294000\n",
       "2                             Yémen  1206484000\n",
       "3                     Soudan du Sud   695248000\n",
       "4                            Soudan   669784000\n",
       "5                             Kenya   552836000\n",
       "6                        Bangladesh   348188000\n",
       "7                           Somalie   292678000\n",
       "8  République démocratique du Congo   288502000\n",
       "9                             Niger   276344000"
      ]
     },
     "execution_count": 1035,
     "metadata": {},
     "output_type": "execute_result"
    }
   ],
   "source": [
    "top_10.head(10)"
   ]
  },
  {
   "cell_type": "code",
   "execution_count": 1074,
   "id": "81f7878f",
   "metadata": {},
   "outputs": [
    {
     "name": "stdout",
     "output_type": "stream",
     "text": [
      "République démocratique du Congo\n"
     ]
    }
   ],
   "source": [
    "top_10.iloc[8,0]"
   ]
  },
  {
   "cell_type": "code",
   "execution_count": 1075,
   "id": "06185640",
   "metadata": {},
   "outputs": [
    {
     "data": {
      "text/plain": [
       "Text(0.5, 1.0, \"10 pays qui ont plus bénéficié de l'aide alimentaire entre 2013 et 2016\")"
      ]
     },
     "execution_count": 1075,
     "metadata": {},
     "output_type": "execute_result"
    },
    {
     "data": {
      "image/png": "[encoded data removed]",
      "text/plain": [
       "<Figure size 640x480 with 1 Axes>"
      ]
     },
     "metadata": {},
     "output_type": "display_data"
    }
   ],
   "source": [
    "top_10.iloc[8,0] = \"RD du Congo\"\n",
    "sequential = sns.color_palette(\"rocket\", 10)\n",
    "graph2 = plt.bar(top_10.Zone, top_10.Valeur, color=sequential)\n",
    "plt.xticks(rotation = 85, fontsize=9)\n",
    "plt.title(\"10 pays qui ont plus bénéficié de l'aide alimentaire entre 2013 et 2016\", loc='center', fontsize = 11)\n"
   ]
  },
  {
   "cell_type": "code",
   "execution_count": null,
   "id": "a6d0b980",
   "metadata": {},
   "outputs": [],
   "source": [
    "\n",
    "sns.barplot(x = top_10['Valeur'], y = top_10['Zone'], palette= sequential)\n",
    "plt.title(\"10 pays qui ont plus bénéficié de l'aide alimentaire entre 2013 et 2016\", loc='center', fontsize = 11)"
   ]
  },
  {
   "cell_type": "markdown",
   "id": "a361ce61",
   "metadata": {},
   "source": [
    "<div style=\"border: 1px solid RGB(0,150,250);\" >\n",
    "<h3 style=\"margin: auto; padding: 20px; color: RGB(0,150,250); \">3.8 - Evolution des 5 pays qui ont le plus bénéficiés de l'aide alimentaire entre 2013 et 2016</h3>\n",
    "</div>"
   ]
  },
  {
   "cell_type": "code",
   "execution_count": 768,
   "id": "904b8fcb",
   "metadata": {},
   "outputs": [],
   "source": [
    "#Création d'un dataframe avec la zone, l'année et l'aide alimentaire puis groupby sur zone et année\n",
    "\n",
    "evolution = aide_alimentaire_csv.groupby(['Zone', 'Année']).agg({'Valeur':'sum'})"
   ]
  },
  {
   "cell_type": "code",
   "execution_count": 769,
   "id": "92235761",
   "metadata": {},
   "outputs": [],
   "source": [
    "evolution_pays = aide_alimentaire_csv.pivot_table(index='Zone', columns='Année', values='Valeur', aggfunc='sum')"
   ]
  },
  {
   "cell_type": "code",
   "execution_count": 770,
   "id": "c8263231",
   "metadata": {},
   "outputs": [],
   "source": [
    "evolution_pays_3 = aide_alimentaire_csv.pivot_table(index='Année', columns='Zone', values='Valeur', aggfunc='sum')"
   ]
  },
  {
   "cell_type": "code",
   "execution_count": 772,
   "id": "69a17de1",
   "metadata": {},
   "outputs": [],
   "source": [
    "evolution_pays_3 = evolution_pays_3.reset_index()"
   ]
  },
  {
   "cell_type": "code",
   "execution_count": null,
   "id": "ab21f00b",
   "metadata": {},
   "outputs": [],
   "source": [
    "evolution_pays_3.head()"
   ]
  },
  {
   "cell_type": "code",
   "execution_count": 774,
   "id": "e8f2447d",
   "metadata": {},
   "outputs": [],
   "source": [
    "evolut = evolution_pays_3.loc[:, ['Année', 'République arabe syrienne', 'Éthiopie', 'Yémen', 'Soudan du Sud', 'Soudan']] "
   ]
  },
  {
   "cell_type": "code",
   "execution_count": null,
   "id": "708713e5",
   "metadata": {},
   "outputs": [],
   "source": [
    "evolut.head()"
   ]
  },
  {
   "cell_type": "code",
   "execution_count": 776,
   "id": "f9a9074c",
   "metadata": {},
   "outputs": [],
   "source": [
    "df_republique_arabe_syrienne = evolut.loc[:, ['Année', 'République arabe syrienne']]\n",
    "df_ethiopie = evolut.loc[:, ['Année', 'Éthiopie']] \n",
    "df_yemen = evolut.loc[:, ['Année', 'Yémen']]\n",
    "df_soudan_du_sud = evolut.loc[:, ['Année', 'Soudan du Sud']]\n",
    "df_soudan = evolut.loc[:, ['Année', 'Soudan']]"
   ]
  },
  {
   "cell_type": "code",
   "execution_count": 777,
   "id": "afa557bd",
   "metadata": {},
   "outputs": [],
   "source": [
    "df_republique_arabe_syrienne.rename(columns={'République arabe syrienne' : 'Valeur'}, inplace=True)\n",
    "df_ethiopie.rename(columns={'Éthiopie' : 'Valeur'}, inplace=True)\n",
    "df_yemen.rename(columns={'Yémen' : 'Valeur'}, inplace=True)\n",
    "df_soudan_du_sud.rename(columns={'Soudan du Sud' : 'Valeur'}, inplace=True)\n",
    "df_soudan.rename(columns={'Soudan' : 'Valeur'}, inplace=True)"
   ]
  },
  {
   "cell_type": "code",
   "execution_count": 784,
   "id": "f86d7a8e",
   "metadata": {},
   "outputs": [
    {
     "data": {
      "text/plain": [
       "Text(0.5, 1.0, \"Evolution de l'aide alimentaire\")"
      ]
     },
     "execution_count": 784,
     "metadata": {},
     "output_type": "execute_result"
    },
    {
     "data": {
      "image/png": "[encoded data removed]",
      "text/plain": [
       "<Figure size 640x480 with 1 Axes>"
      ]
     },
     "metadata": {},
     "output_type": "display_data"
    }
   ],
   "source": [
    "sns.lineplot(x = df_republique_arabe_syrienne['Année'], y = df_republique_arabe_syrienne['Valeur'], color='crimson').text(s='République arabe syrienne', x=2016.5, y=650000000.0, color='crimson', fontsize=9)\n",
    "sns.lineplot(x = df_ethiopie['Année'], y = df_ethiopie['Valeur'], color='dodgerblue').text(s='Éthiopie', x=2016.5, y=620000000.0, color='dodgerblue', fontsize=9)\n",
    "sns.lineplot(x = df_yemen['Année'], y = df_yemen['Valeur'], color='orange').text(s='Yémen', x=2016.5, y=590000000.0, color='orange', fontsize=9)\n",
    "sns.lineplot(x = df_soudan_du_sud['Année'], y = df_soudan_du_sud['Valeur'], color = 'olivedrab').text(s='Soudan du Sud', x=2016.5, y=560000000.0, color='olivedrab', fontsize=9)\n",
    "sns.lineplot(x = df_soudan['Année'], y = df_soudan['Valeur'], color = 'dimgrey').text(s='Soudan', x=2016.5, y=530000000.0, color='dimgrey', fontsize=9)\n",
    "plt.title(\"Evolution de l'aide alimentaire\", loc='center')\n",
    "\n"
   ]
  },
  {
   "cell_type": "code",
   "execution_count": null,
   "id": "eb150de8",
   "metadata": {},
   "outputs": [],
   "source": [
    "evolution_pays.head()"
   ]
  },
  {
   "cell_type": "code",
   "execution_count": null,
   "id": "0a853a60",
   "metadata": {},
   "outputs": [],
   "source": [
    "evolution_pays = evolution_pays.reset_index()"
   ]
  },
  {
   "cell_type": "code",
   "execution_count": null,
   "id": "9439d529",
   "metadata": {},
   "outputs": [
    {
     "data": {
      "text/html": [
       "<div>\n",
       "<style scoped>\n",
       "    .dataframe tbody tr th:only-of-type {\n",
       "        vertical-align: middle;\n",
       "    }\n",
       "\n",
       "    .dataframe tbody tr th {\n",
       "        vertical-align: top;\n",
       "    }\n",
       "\n",
       "    .dataframe thead th {\n",
       "        text-align: right;\n",
       "    }\n",
       "</style>\n",
       "<table border=\"1\" class=\"dataframe\">\n",
       "  <thead>\n",
       "    <tr style=\"text-align: right;\">\n",
       "      <th>Année</th>\n",
       "      <th>Zone</th>\n",
       "      <th>2013</th>\n",
       "      <th>2014</th>\n",
       "      <th>2015</th>\n",
       "      <th>2016</th>\n",
       "    </tr>\n",
       "  </thead>\n",
       "  <tbody>\n",
       "    <tr>\n",
       "      <th>0</th>\n",
       "      <td>Afghanistan</td>\n",
       "      <td>128238000.0</td>\n",
       "      <td>57214000.0</td>\n",
       "      <td>NaN</td>\n",
       "      <td>NaN</td>\n",
       "    </tr>\n",
       "    <tr>\n",
       "      <th>1</th>\n",
       "      <td>Algérie</td>\n",
       "      <td>35234000.0</td>\n",
       "      <td>18980000.0</td>\n",
       "      <td>17424000.0</td>\n",
       "      <td>9476000.0</td>\n",
       "    </tr>\n",
       "    <tr>\n",
       "      <th>2</th>\n",
       "      <td>Angola</td>\n",
       "      <td>5000000.0</td>\n",
       "      <td>14000.0</td>\n",
       "      <td>NaN</td>\n",
       "      <td>NaN</td>\n",
       "    </tr>\n",
       "    <tr>\n",
       "      <th>3</th>\n",
       "      <td>Bangladesh</td>\n",
       "      <td>131018000.0</td>\n",
       "      <td>194628000.0</td>\n",
       "      <td>22542000.0</td>\n",
       "      <td>NaN</td>\n",
       "    </tr>\n",
       "    <tr>\n",
       "      <th>4</th>\n",
       "      <td>Bhoutan</td>\n",
       "      <td>1724000.0</td>\n",
       "      <td>146000.0</td>\n",
       "      <td>578000.0</td>\n",
       "      <td>218000.0</td>\n",
       "    </tr>\n",
       "  </tbody>\n",
       "</table>\n",
       "</div>"
      ],
      "text/plain": [
       "Année         Zone         2013         2014        2015       2016\n",
       "0      Afghanistan  128238000.0   57214000.0         NaN        NaN\n",
       "1          Algérie   35234000.0   18980000.0  17424000.0  9476000.0\n",
       "2           Angola    5000000.0      14000.0         NaN        NaN\n",
       "3       Bangladesh  131018000.0  194628000.0  22542000.0        NaN\n",
       "4          Bhoutan    1724000.0     146000.0    578000.0   218000.0"
      ]
     },
     "execution_count": 565,
     "metadata": {},
     "output_type": "execute_result"
    }
   ],
   "source": [
    "evolution_pays.head()"
   ]
  },
  {
   "cell_type": "code",
   "execution_count": null,
   "id": "6bd577b0",
   "metadata": {},
   "outputs": [
    {
     "name": "stdout",
     "output_type": "stream",
     "text": [
      "['République arabe syrienne', 'Éthiopie', 'Yémen', 'Soudan du Sud', 'Soudan']\n"
     ]
    }
   ],
   "source": [
    "#Création d'une liste contenant les 5 pays qui ont le plus bénéficiées de l'aide alimentaire\n",
    "list_pays = top_10_aide.index.values.tolist()\n",
    "list_pays_slice = list_pays[0:5]\n",
    "print(list_pays_slice)"
   ]
  },
  {
   "cell_type": "code",
   "execution_count": null,
   "id": "7661e03f",
   "metadata": {},
   "outputs": [],
   "source": [
    "#On filtre sur le dataframe avec notre liste\n",
    "evolution_5_pays = evolution_pays[evolution_pays['Zone'].isin(list_pays_slice)]"
   ]
  },
  {
   "cell_type": "code",
   "execution_count": null,
   "id": "b88f1886",
   "metadata": {},
   "outputs": [],
   "source": [
    "# Affichage des pays avec l'aide alimentaire par année\n",
    "evolution_5_pays.head()"
   ]
  },
  {
   "cell_type": "markdown",
   "id": "bd392dac",
   "metadata": {},
   "source": [
    "<div style=\"border: 1px solid RGB(0,150,250);\" >\n",
    "<h3 style=\"margin: auto; padding: 20px; color: RGB(0,150,250); \">3.9 - Pays avec le moins de disponibilité par habitant</h3>\n",
    "</div>"
   ]
  },
  {
   "cell_type": "code",
   "execution_count": null,
   "id": "9fb5175f",
   "metadata": {},
   "outputs": [
    {
     "data": {
      "text/plain": [
       "Index(['Zone', 'Disponibilité alimentaire (Kcal/personne/jour)',\n",
       "       'Disponibilité intérieure', 'Année', 'Population', 'Kcal_dispo_pays'],\n",
       "      dtype='object')"
      ]
     },
     "execution_count": 327,
     "metadata": {},
     "output_type": "execute_result"
    }
   ],
   "source": [
    "dispo_agg_pop.columns\n"
   ]
  },
  {
   "cell_type": "code",
   "execution_count": null,
   "id": "fb3a378b",
   "metadata": {},
   "outputs": [],
   "source": [
    "#Calcul de la disponibilité en kcal par personne par jour par pays\n",
    "dispo_par_habitant = dispo_agg_pop.drop(columns=[\"Disponibilité intérieure\", \"Année\", \"Population\"]) "
   ]
  },
  {
   "cell_type": "code",
   "execution_count": 1109,
   "id": "70c0f689",
   "metadata": {},
   "outputs": [],
   "source": [
    "#Affichage des 10 pays qui ont le moins de dispo alimentaire par personne \n",
    "dispo_par_habitant = dispo_par_habitant.sort_values('Disponibilité alimentaire (Kcal/personne/jour)', ascending=True)\n",
    "dispo_par_habitant.head(10)\n",
    "moins_dispo = dispo_par_habitant.head(10).reset_index()\n"
   ]
  },
  {
   "cell_type": "code",
   "execution_count": 1110,
   "id": "e7d734d3",
   "metadata": {},
   "outputs": [
    {
     "data": {
      "text/html": [
       "<div>\n",
       "<style scoped>\n",
       "    .dataframe tbody tr th:only-of-type {\n",
       "        vertical-align: middle;\n",
       "    }\n",
       "\n",
       "    .dataframe tbody tr th {\n",
       "        vertical-align: top;\n",
       "    }\n",
       "\n",
       "    .dataframe thead th {\n",
       "        text-align: right;\n",
       "    }\n",
       "</style>\n",
       "<table border=\"1\" class=\"dataframe\">\n",
       "  <thead>\n",
       "    <tr style=\"text-align: right;\">\n",
       "      <th></th>\n",
       "      <th>index</th>\n",
       "      <th>Zone</th>\n",
       "      <th>Disponibilité alimentaire (Kcal/personne/jour)</th>\n",
       "      <th>Kcal_dispo_pays</th>\n",
       "    </tr>\n",
       "  </thead>\n",
       "  <tbody>\n",
       "    <tr>\n",
       "      <th>0</th>\n",
       "      <td>128</td>\n",
       "      <td>République centrafricaine</td>\n",
       "      <td>1879.0</td>\n",
       "      <td>8.635927e+09</td>\n",
       "    </tr>\n",
       "    <tr>\n",
       "      <th>1</th>\n",
       "      <td>166</td>\n",
       "      <td>Zambie</td>\n",
       "      <td>1924.0</td>\n",
       "      <td>3.242632e+10</td>\n",
       "    </tr>\n",
       "    <tr>\n",
       "      <th>2</th>\n",
       "      <td>91</td>\n",
       "      <td>Madagascar</td>\n",
       "      <td>2056.0</td>\n",
       "      <td>5.257297e+10</td>\n",
       "    </tr>\n",
       "    <tr>\n",
       "      <th>3</th>\n",
       "      <td>0</td>\n",
       "      <td>Afghanistan</td>\n",
       "      <td>2087.0</td>\n",
       "      <td>7.574999e+10</td>\n",
       "    </tr>\n",
       "    <tr>\n",
       "      <th>4</th>\n",
       "      <td>65</td>\n",
       "      <td>Haïti</td>\n",
       "      <td>2089.0</td>\n",
       "      <td>2.294216e+10</td>\n",
       "    </tr>\n",
       "    <tr>\n",
       "      <th>5</th>\n",
       "      <td>133</td>\n",
       "      <td>République populaire démocratique de Corée</td>\n",
       "      <td>2093.0</td>\n",
       "      <td>5.322462e+10</td>\n",
       "    </tr>\n",
       "    <tr>\n",
       "      <th>6</th>\n",
       "      <td>151</td>\n",
       "      <td>Tchad</td>\n",
       "      <td>2109.0</td>\n",
       "      <td>3.167033e+10</td>\n",
       "    </tr>\n",
       "    <tr>\n",
       "      <th>7</th>\n",
       "      <td>167</td>\n",
       "      <td>Zimbabwe</td>\n",
       "      <td>2113.0</td>\n",
       "      <td>3.008193e+10</td>\n",
       "    </tr>\n",
       "    <tr>\n",
       "      <th>8</th>\n",
       "      <td>114</td>\n",
       "      <td>Ouganda</td>\n",
       "      <td>2126.0</td>\n",
       "      <td>8.752017e+10</td>\n",
       "    </tr>\n",
       "    <tr>\n",
       "      <th>9</th>\n",
       "      <td>172</td>\n",
       "      <td>Éthiopie</td>\n",
       "      <td>2129.0</td>\n",
       "      <td>2.265254e+11</td>\n",
       "    </tr>\n",
       "  </tbody>\n",
       "</table>\n",
       "</div>"
      ],
      "text/plain": [
       "   index                                        Zone  \\\n",
       "0    128                   République centrafricaine   \n",
       "1    166                                      Zambie   \n",
       "2     91                                  Madagascar   \n",
       "3      0                                 Afghanistan   \n",
       "4     65                                       Haïti   \n",
       "5    133  République populaire démocratique de Corée   \n",
       "6    151                                       Tchad   \n",
       "7    167                                    Zimbabwe   \n",
       "8    114                                     Ouganda   \n",
       "9    172                                    Éthiopie   \n",
       "\n",
       "   Disponibilité alimentaire (Kcal/personne/jour)  Kcal_dispo_pays  \n",
       "0                                          1879.0     8.635927e+09  \n",
       "1                                          1924.0     3.242632e+10  \n",
       "2                                          2056.0     5.257297e+10  \n",
       "3                                          2087.0     7.574999e+10  \n",
       "4                                          2089.0     2.294216e+10  \n",
       "5                                          2093.0     5.322462e+10  \n",
       "6                                          2109.0     3.167033e+10  \n",
       "7                                          2113.0     3.008193e+10  \n",
       "8                                          2126.0     8.752017e+10  \n",
       "9                                          2129.0     2.265254e+11  "
      ]
     },
     "execution_count": 1110,
     "metadata": {},
     "output_type": "execute_result"
    }
   ],
   "source": [
    "moins_dispo.head(10)"
   ]
  },
  {
   "cell_type": "code",
   "execution_count": 1113,
   "id": "a8dd2bd7",
   "metadata": {},
   "outputs": [],
   "source": [
    "moins_dispo.iloc[5,1] = \"RPD de Corée\""
   ]
  },
  {
   "cell_type": "code",
   "execution_count": 1114,
   "id": "802e3d1e",
   "metadata": {},
   "outputs": [
    {
     "name": "stderr",
     "output_type": "stream",
     "text": [
      "/var/folders/r_/fd0gwkxn6n995_hk_5lc9f540000gn/T/ipykernel_95323/2604262571.py:2: FutureWarning: \n",
      "\n",
      "Passing `palette` without assigning `hue` is deprecated and will be removed in v0.14.0. Assign the `x` variable to `hue` and set `legend=False` for the same effect.\n",
      "\n",
      "  graph3= sns.barplot(x=moins_dispo['Zone'] ,y=moins_dispo['Disponibilité alimentaire (Kcal/personne/jour)'], palette=\"Reds_r\")\n"
     ]
    },
    {
     "data": {
      "text/plain": [
       "Text(0.5, 1.0, '10 pays à faible disponibilité alimentaire')"
      ]
     },
     "execution_count": 1114,
     "metadata": {},
     "output_type": "execute_result"
    },
    {
     "data": {
      "image/png": "[encoded data removed]",
      "text/plain": [
       "<Figure size 600x400 with 1 Axes>"
      ]
     },
     "metadata": {},
     "output_type": "display_data"
    }
   ],
   "source": [
    "plt.figure(figsize=(6,4))\n",
    "graph3= sns.barplot(x=moins_dispo['Zone'] ,y=moins_dispo['Disponibilité alimentaire (Kcal/personne/jour)'], palette=\"Reds_r\")\n",
    "plt.xlabel('Zone', fontsize=11, color='black')\n",
    "plt.ylabel(\"Disponibilité alimentaire (Kcal/personne/jour)\", fontsize=11, color='black')\n",
    "plt.xticks(rotation = 85)\n",
    "plt.title(\"10 pays à faible disponibilité alimentaire\", loc='center')\n",
    "\n",
    "\n"
   ]
  },
  {
   "cell_type": "markdown",
   "id": "2553ed12",
   "metadata": {},
   "source": [
    "<div style=\"border: 1px solid RGB(0,150,250);\" >\n",
    "<h3 style=\"margin: auto; padding: 20px; color: RGB(0,150,250); \">3.10 - Pays avec le plus de disponibilité par habitant</h3>\n",
    "</div>"
   ]
  },
  {
   "cell_type": "code",
   "execution_count": 811,
   "id": "63e835c6",
   "metadata": {},
   "outputs": [],
   "source": [
    "#Affichage des 10 pays qui ont le plus de dispo alimentaire par personne \n",
    "dispo_par_habitant = dispo_par_habitant.sort_values('Disponibilité alimentaire (Kcal/personne/jour)', ascending=False)\n",
    "dispo_par_habitant.head(10)\n",
    "plus_dispo = dispo_par_habitant.head(10)"
   ]
  },
  {
   "cell_type": "code",
   "execution_count": 816,
   "id": "9b761407",
   "metadata": {},
   "outputs": [
    {
     "name": "stderr",
     "output_type": "stream",
     "text": [
      "/var/folders/r_/fd0gwkxn6n995_hk_5lc9f540000gn/T/ipykernel_95323/3969104232.py:2: FutureWarning: \n",
      "\n",
      "Passing `palette` without assigning `hue` is deprecated and will be removed in v0.14.0. Assign the `x` variable to `hue` and set `legend=False` for the same effect.\n",
      "\n",
      "  sns.barplot(x=plus_dispo['Zone'] ,y=plus_dispo['Disponibilité alimentaire (Kcal/personne/jour)'], palette=\"Blues_r\")\n"
     ]
    },
    {
     "data": {
      "text/plain": [
       "Text(0.5, 1.0, '10 pays à forte disponibilité alimentaire')"
      ]
     },
     "execution_count": 816,
     "metadata": {},
     "output_type": "execute_result"
    },
    {
     "data": {
      "image/png": "[encoded data removed]",
      "text/plain": [
       "<Figure size 600x400 with 1 Axes>"
      ]
     },
     "metadata": {},
     "output_type": "display_data"
    }
   ],
   "source": [
    "plt.figure(figsize=(6,4))\n",
    "sns.barplot(x=plus_dispo['Zone'] ,y=plus_dispo['Disponibilité alimentaire (Kcal/personne/jour)'], palette=\"Blues_r\")\n",
    "plt.xlabel('Zone', fontsize=11, color='black')\n",
    "plt.ylabel(\"Disponibilité alimentaire (Kcal/personne/jour)\", fontsize=11, color='black')\n",
    "plt.xticks(rotation = 85)\n",
    "plt.title(\"10 pays à forte disponibilité alimentaire\", loc='center')\n",
    "\n"
   ]
  },
  {
   "cell_type": "markdown",
   "id": "58d7248b",
   "metadata": {},
   "source": [
    "<div style=\"border: 1px solid RGB(0,150,250);\" >\n",
    "<h3 style=\"margin: auto; padding: 20px; color: RGB(0,150,250); \">3.11 - Exemple de la Thaïlande pour le Manioc</h3>\n",
    "</div>"
   ]
  },
  {
   "cell_type": "code",
   "execution_count": null,
   "id": "2c2788c5",
   "metadata": {},
   "outputs": [
    {
     "data": {
      "text/html": [
       "<div>\n",
       "<style scoped>\n",
       "    .dataframe tbody tr th:only-of-type {\n",
       "        vertical-align: middle;\n",
       "    }\n",
       "\n",
       "    .dataframe tbody tr th {\n",
       "        vertical-align: top;\n",
       "    }\n",
       "\n",
       "    .dataframe thead th {\n",
       "        text-align: right;\n",
       "    }\n",
       "</style>\n",
       "<table border=\"1\" class=\"dataframe\">\n",
       "  <thead>\n",
       "    <tr style=\"text-align: right;\">\n",
       "      <th></th>\n",
       "      <th>Zone</th>\n",
       "      <th>sous_nutrition</th>\n",
       "      <th>Annee</th>\n",
       "      <th>Population</th>\n",
       "      <th>pourcentage_sous_nutrition</th>\n",
       "    </tr>\n",
       "  </thead>\n",
       "  <tbody>\n",
       "    <tr>\n",
       "      <th>185</th>\n",
       "      <td>Thaïlande</td>\n",
       "      <td>6200000.0</td>\n",
       "      <td>2017</td>\n",
       "      <td>69209810.0</td>\n",
       "      <td>8.96</td>\n",
       "    </tr>\n",
       "  </tbody>\n",
       "</table>\n",
       "</div>"
      ],
      "text/plain": [
       "          Zone  sous_nutrition  Annee  Population  pourcentage_sous_nutrition\n",
       "185  Thaïlande       6200000.0   2017  69209810.0                        8.96"
      ]
     },
     "execution_count": 332,
     "metadata": {},
     "output_type": "execute_result"
    }
   ],
   "source": [
    "#création d'un dataframe avec uniquement la Thaïlande \n",
    "pays_documentes.loc[pays_documentes[\"Zone\"] == \"Thaïlande\"]"
   ]
  },
  {
   "cell_type": "code",
   "execution_count": null,
   "id": "85693912",
   "metadata": {},
   "outputs": [],
   "source": [
    "#Calcul de la sous nutrition en Thaïlande : 8,96%\n"
   ]
  },
  {
   "cell_type": "code",
   "execution_count": null,
   "id": "f19cd96e",
   "metadata": {},
   "outputs": [],
   "source": [
    "# On calcule la proportion exportée en fonction de la proportion\n",
    "thailande_manioc = dispo_alimentaire_csv.loc[(dispo_alimentaire_csv['Zone'] == \"Thaïlande\") & (dispo_alimentaire_csv['Produit'] == \"Manioc\")]"
   ]
  },
  {
   "cell_type": "code",
   "execution_count": 944,
   "id": "59d923c3",
   "metadata": {},
   "outputs": [
    {
     "data": {
      "text/html": [
       "<div>\n",
       "<style scoped>\n",
       "    .dataframe tbody tr th:only-of-type {\n",
       "        vertical-align: middle;\n",
       "    }\n",
       "\n",
       "    .dataframe tbody tr th {\n",
       "        vertical-align: top;\n",
       "    }\n",
       "\n",
       "    .dataframe thead th {\n",
       "        text-align: right;\n",
       "    }\n",
       "</style>\n",
       "<table border=\"1\" class=\"dataframe\">\n",
       "  <thead>\n",
       "    <tr style=\"text-align: right;\">\n",
       "      <th></th>\n",
       "      <th>Zone</th>\n",
       "      <th>Produit</th>\n",
       "      <th>Origine</th>\n",
       "      <th>Aliments pour animaux</th>\n",
       "      <th>Autres Utilisations</th>\n",
       "      <th>Disponibilité alimentaire (Kcal/personne/jour)</th>\n",
       "      <th>Disponibilité alimentaire en quantité (kg/personne/an)</th>\n",
       "      <th>Disponibilité de matière grasse en quantité (g/personne/jour)</th>\n",
       "      <th>Disponibilité de protéines en quantité (g/personne/jour)</th>\n",
       "      <th>Disponibilité intérieure</th>\n",
       "      <th>Exportations - Quantité</th>\n",
       "      <th>Importations - Quantité</th>\n",
       "      <th>Nourriture</th>\n",
       "      <th>Pertes</th>\n",
       "      <th>Production</th>\n",
       "      <th>Semences</th>\n",
       "      <th>Traitement</th>\n",
       "      <th>Variation de stock</th>\n",
       "    </tr>\n",
       "  </thead>\n",
       "  <tbody>\n",
       "    <tr>\n",
       "      <th>13809</th>\n",
       "      <td>Thaïlande</td>\n",
       "      <td>Manioc</td>\n",
       "      <td>vegetale</td>\n",
       "      <td>1.800000e+09</td>\n",
       "      <td>2.081000e+09</td>\n",
       "      <td>40.0</td>\n",
       "      <td>13.0</td>\n",
       "      <td>0.05</td>\n",
       "      <td>0.14</td>\n",
       "      <td>6.264000e+09</td>\n",
       "      <td>2.521400e+10</td>\n",
       "      <td>1.250000e+09</td>\n",
       "      <td>871000000.0</td>\n",
       "      <td>1.511000e+09</td>\n",
       "      <td>3.022800e+10</td>\n",
       "      <td>0.0</td>\n",
       "      <td>0.0</td>\n",
       "      <td>0.0</td>\n",
       "    </tr>\n",
       "  </tbody>\n",
       "</table>\n",
       "</div>"
      ],
      "text/plain": [
       "            Zone Produit   Origine  Aliments pour animaux  \\\n",
       "13809  Thaïlande  Manioc  vegetale           1.800000e+09   \n",
       "\n",
       "       Autres Utilisations  Disponibilité alimentaire (Kcal/personne/jour)  \\\n",
       "13809         2.081000e+09                                            40.0   \n",
       "\n",
       "       Disponibilité alimentaire en quantité (kg/personne/an)  \\\n",
       "13809                                               13.0        \n",
       "\n",
       "       Disponibilité de matière grasse en quantité (g/personne/jour)  \\\n",
       "13809                                               0.05               \n",
       "\n",
       "       Disponibilité de protéines en quantité (g/personne/jour)  \\\n",
       "13809                                               0.14          \n",
       "\n",
       "       Disponibilité intérieure  Exportations - Quantité  \\\n",
       "13809              6.264000e+09             2.521400e+10   \n",
       "\n",
       "       Importations - Quantité   Nourriture        Pertes    Production  \\\n",
       "13809             1.250000e+09  871000000.0  1.511000e+09  3.022800e+10   \n",
       "\n",
       "       Semences  Traitement  Variation de stock  \n",
       "13809       0.0         0.0                 0.0  "
      ]
     },
     "execution_count": 944,
     "metadata": {},
     "output_type": "execute_result"
    }
   ],
   "source": [
    "thailande_manioc.head()"
   ]
  },
  {
   "cell_type": "code",
   "execution_count": null,
   "id": "6b4dfee4",
   "metadata": {},
   "outputs": [
    {
     "name": "stdout",
     "output_type": "stream",
     "text": [
      "13809    83.41\n",
      "dtype: float64\n"
     ]
    }
   ],
   "source": [
    "export_manioc = round(((thailande_manioc['Exportations - Quantité']/thailande_manioc['Production'])*100),2)\n",
    "print(export_manioc) \n"
   ]
  },
  {
   "cell_type": "code",
   "execution_count": null,
   "id": "b6b15fb2",
   "metadata": {},
   "outputs": [
    {
     "name": "stdout",
     "output_type": "stream",
     "text": [
      "13809    2.88\n",
      "dtype: float64\n"
     ]
    }
   ],
   "source": [
    "nourriture_manioc = round(((thailande_manioc['Nourriture']/thailande_manioc['Production'])*100),2)\n",
    "print(nourriture_manioc)"
   ]
  },
  {
   "cell_type": "markdown",
   "id": "7de4e914",
   "metadata": {},
   "source": [
    "<div style=\"background-color: RGB(0,150,250);\" >\n",
    "<h2 style=\"margin: auto; padding: 20px; color:#fff; \">Etape 6 - Analyse complémentaires</h2>\n",
    "</div>"
   ]
  }
 ],
 "metadata": {
  "kernelspec": {
   "display_name": "Python 3",
   "language": "python",
   "name": "python3"
  },
  "language_info": {
   "codemirror_mode": {
    "name": "ipython",
    "version": 3
   },
   "file_extension": ".py",
   "mimetype": "text/x-python",
   "name": "python",
   "nbconvert_exporter": "python",
   "pygments_lexer": "ipython3",
   "version": "3.11.6"
  }
 },
 "nbformat": 4,
 "nbformat_minor": 5
}
